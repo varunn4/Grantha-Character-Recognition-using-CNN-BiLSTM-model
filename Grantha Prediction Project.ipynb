{
 "cells": [
  {
   "cell_type": "code",
   "execution_count": 3,
   "id": "fbbcb7bc",
   "metadata": {},
   "outputs": [
    {
     "name": "stdout",
     "output_type": "stream",
     "text": [
      "Shape of X before reshaping: (15855, 32, 128)\n",
      "Shape of X after reshaping: (15855, 1, 32, 128)\n",
      "Total images collected: 15855\n",
      "Categories found: ['01_ka', '02_kha', '03_ga', '04_gha', '05_na(01)', '06_ca', '07_cha', '08_ja', '09_jha', '10_na(02)', '11_ta(01)', '12_tha(01)', '13_da(01)', '14_dha(01)', '15_na(03)', '16_ta(02)', '17_tha(02)', '18_da(02)', '19_dha(02)', '20_na(04)', '21_pa', '22_pha', '23_ba', '24_bha', '25_ma', '26_ya', '27_ra', '28_la(01)', '29_va', '31_sa(01)', '32_sa(02)', '33_sa(03)', '34_ha', '0', '1', '2', '3', '4', '5', '6', '7', '8', '9', 'bau', 'bhaa', 'chcha', 'ddha', 'dhaa', 'dhae', 'dhva', 'dhvaa', 'dhya', 'gaa', 'gee', 'hma', 'jaa', 'jna', 'jya', 'kaa', 'khi', 'koo', 'ksha', 'ktha', 'kthi', 'lau', 'li', 'maa', 'mu', 'n', 'naa (3)', 'nau (3)', 'nca', 'nda', 'nda(1)', 'nea', 'nee', 'nga', 'ni', 'nja', 'nna', 'Nni', 'ntha', 'ntha(1)', 'nthe', 'nthi', 'nthva', 'nu', 'paa', 'pi', 'raa', 'rthu', 'ruu', 'rva', 'rya', 'saa', 'shcha', 'shhaa', 'shhta', 'shhtaa', 'shhya', 'shi', 'shii', 'shra', 'shu', 'shuu', 'soo', 'sri', 'ssa', 'stha', 'sthra', 'su', 'sya', 'tea', 'th', 'tham', 'thi', 'thra', 'thraa', 'thri', 'thu', 'thva', 'ti', 'ttha', 'vaa', 'vi', 'yya', 'vowels (1)', 'vowels (10)', 'vowels (11)', 'vowels (12)', 'vowels (13)', 'vowels (14)', 'vowels (2)', 'vowels (3)', 'vowels (4)', 'vowels (5)', 'vowels (6)', 'vowels (7)', 'vowels (8)', 'vowels (9)']\n"
     ]
    },
    {
     "name": "stderr",
     "output_type": "stream",
     "text": [
      "Epoch 1: 100%|██████████| 397/397 [00:14<00:00, 26.88it/s]\n"
     ]
    },
    {
     "name": "stdout",
     "output_type": "stream",
     "text": [
      "Epoch 1/150, Loss: 5.5759, Val Loss: 4.9500, Train Seq Acc: 0.0110, Val Seq Acc: 0.0132\n"
     ]
    },
    {
     "name": "stderr",
     "output_type": "stream",
     "text": [
      "Epoch 2: 100%|██████████| 397/397 [00:09<00:00, 40.79it/s]\n"
     ]
    },
    {
     "name": "stdout",
     "output_type": "stream",
     "text": [
      "Epoch 2/150, Loss: 4.7413, Val Loss: 4.8359, Train Seq Acc: 0.0159, Val Seq Acc: 0.0161\n"
     ]
    },
    {
     "name": "stderr",
     "output_type": "stream",
     "text": [
      "Epoch 3: 100%|██████████| 397/397 [00:09<00:00, 42.45it/s]\n"
     ]
    },
    {
     "name": "stdout",
     "output_type": "stream",
     "text": [
      "Epoch 3/150, Loss: 4.2539, Val Loss: 4.2461, Train Seq Acc: 0.0304, Val Seq Acc: 0.0274\n"
     ]
    },
    {
     "name": "stderr",
     "output_type": "stream",
     "text": [
      "Epoch 4: 100%|██████████| 397/397 [00:09<00:00, 43.18it/s]\n"
     ]
    },
    {
     "name": "stdout",
     "output_type": "stream",
     "text": [
      "Epoch 4/150, Loss: 4.0506, Val Loss: 4.0425, Train Seq Acc: 0.0476, Val Seq Acc: 0.0432\n"
     ]
    },
    {
     "name": "stderr",
     "output_type": "stream",
     "text": [
      "Epoch 5: 100%|██████████| 397/397 [00:09<00:00, 40.00it/s]\n"
     ]
    },
    {
     "name": "stdout",
     "output_type": "stream",
     "text": [
      "Epoch 5/150, Loss: 3.8535, Val Loss: 3.6689, Train Seq Acc: 0.1111, Val Seq Acc: 0.0930\n"
     ]
    },
    {
     "name": "stderr",
     "output_type": "stream",
     "text": [
      "Epoch 6: 100%|██████████| 397/397 [00:09<00:00, 41.59it/s]\n"
     ]
    },
    {
     "name": "stdout",
     "output_type": "stream",
     "text": [
      "Epoch 6/150, Loss: 3.4470, Val Loss: 3.1171, Train Seq Acc: 0.2174, Val Seq Acc: 0.1902\n"
     ]
    },
    {
     "name": "stderr",
     "output_type": "stream",
     "text": [
      "Epoch 7: 100%|██████████| 397/397 [00:09<00:00, 40.31it/s]\n"
     ]
    },
    {
     "name": "stdout",
     "output_type": "stream",
     "text": [
      "Epoch 7/150, Loss: 2.7569, Val Loss: 3.6101, Train Seq Acc: 0.1824, Val Seq Acc: 0.1665\n"
     ]
    },
    {
     "name": "stderr",
     "output_type": "stream",
     "text": [
      "Epoch 8: 100%|██████████| 397/397 [00:09<00:00, 41.61it/s]\n"
     ]
    },
    {
     "name": "stdout",
     "output_type": "stream",
     "text": [
      "Epoch 8/150, Loss: 2.0234, Val Loss: 1.7499, Train Seq Acc: 0.5550, Val Seq Acc: 0.5106\n"
     ]
    },
    {
     "name": "stderr",
     "output_type": "stream",
     "text": [
      "Epoch 9: 100%|██████████| 397/397 [00:09<00:00, 41.59it/s]\n"
     ]
    },
    {
     "name": "stdout",
     "output_type": "stream",
     "text": [
      "Epoch 9/150, Loss: 1.3717, Val Loss: 1.4600, Train Seq Acc: 0.6507, Val Seq Acc: 0.5875\n"
     ]
    },
    {
     "name": "stderr",
     "output_type": "stream",
     "text": [
      "Epoch 10: 100%|██████████| 397/397 [00:09<00:00, 40.30it/s]\n"
     ]
    },
    {
     "name": "stdout",
     "output_type": "stream",
     "text": [
      "Epoch 10/150, Loss: 0.9275, Val Loss: 4.0771, Train Seq Acc: 0.2160, Val Seq Acc: 0.1854\n"
     ]
    },
    {
     "name": "stderr",
     "output_type": "stream",
     "text": [
      "Epoch 11: 100%|██████████| 397/397 [00:09<00:00, 40.64it/s]\n"
     ]
    },
    {
     "name": "stdout",
     "output_type": "stream",
     "text": [
      "Epoch 11/150, Loss: 0.6310, Val Loss: 0.7989, Train Seq Acc: 0.8467, Val Seq Acc: 0.7654\n"
     ]
    },
    {
     "name": "stderr",
     "output_type": "stream",
     "text": [
      "Epoch 12: 100%|██████████| 397/397 [00:09<00:00, 40.73it/s]\n"
     ]
    },
    {
     "name": "stdout",
     "output_type": "stream",
     "text": [
      "Epoch 12/150, Loss: 0.4418, Val Loss: 0.6023, Train Seq Acc: 0.9199, Val Seq Acc: 0.8335\n"
     ]
    },
    {
     "name": "stderr",
     "output_type": "stream",
     "text": [
      "Epoch 13: 100%|██████████| 397/397 [00:09<00:00, 41.13it/s]\n"
     ]
    },
    {
     "name": "stdout",
     "output_type": "stream",
     "text": [
      "Epoch 13/150, Loss: 0.3145, Val Loss: 0.6263, Train Seq Acc: 0.9264, Val Seq Acc: 0.8225\n"
     ]
    },
    {
     "name": "stderr",
     "output_type": "stream",
     "text": [
      "Epoch 14: 100%|██████████| 397/397 [00:09<00:00, 43.26it/s]\n"
     ]
    },
    {
     "name": "stdout",
     "output_type": "stream",
     "text": [
      "Epoch 14/150, Loss: 0.2374, Val Loss: 0.6027, Train Seq Acc: 0.9331, Val Seq Acc: 0.8218\n"
     ]
    },
    {
     "name": "stderr",
     "output_type": "stream",
     "text": [
      "Epoch 15: 100%|██████████| 397/397 [00:09<00:00, 41.17it/s]\n"
     ]
    },
    {
     "name": "stdout",
     "output_type": "stream",
     "text": [
      "Epoch 15/150, Loss: 0.1884, Val Loss: 0.4943, Train Seq Acc: 0.9651, Val Seq Acc: 0.8707\n"
     ]
    },
    {
     "name": "stderr",
     "output_type": "stream",
     "text": [
      "Epoch 16: 100%|██████████| 397/397 [00:09<00:00, 41.70it/s]\n"
     ]
    },
    {
     "name": "stdout",
     "output_type": "stream",
     "text": [
      "Epoch 16/150, Loss: 0.1609, Val Loss: 0.5372, Train Seq Acc: 0.9675, Val Seq Acc: 0.8603\n"
     ]
    },
    {
     "name": "stderr",
     "output_type": "stream",
     "text": [
      "Epoch 17: 100%|██████████| 397/397 [00:09<00:00, 40.84it/s]\n"
     ]
    },
    {
     "name": "stdout",
     "output_type": "stream",
     "text": [
      "Epoch 17/150, Loss: 0.1464, Val Loss: 0.5600, Train Seq Acc: 0.9511, Val Seq Acc: 0.8477\n"
     ]
    },
    {
     "name": "stderr",
     "output_type": "stream",
     "text": [
      "Epoch 18: 100%|██████████| 397/397 [00:09<00:00, 41.82it/s]\n"
     ]
    },
    {
     "name": "stdout",
     "output_type": "stream",
     "text": [
      "Epoch 18/150, Loss: 0.1176, Val Loss: 1.3888, Train Seq Acc: 0.7800, Val Seq Acc: 0.6868\n"
     ]
    },
    {
     "name": "stderr",
     "output_type": "stream",
     "text": [
      "Epoch 19: 100%|██████████| 397/397 [00:09<00:00, 43.07it/s]\n"
     ]
    },
    {
     "name": "stdout",
     "output_type": "stream",
     "text": [
      "Epoch 19/150, Loss: 0.0961, Val Loss: 0.6953, Train Seq Acc: 0.9232, Val Seq Acc: 0.8218\n"
     ]
    },
    {
     "name": "stderr",
     "output_type": "stream",
     "text": [
      "Epoch 20: 100%|██████████| 397/397 [00:09<00:00, 40.99it/s]\n"
     ]
    },
    {
     "name": "stdout",
     "output_type": "stream",
     "text": [
      "Epoch 20/150, Loss: 0.1168, Val Loss: 0.5346, Train Seq Acc: 0.9603, Val Seq Acc: 0.8578\n"
     ]
    },
    {
     "name": "stderr",
     "output_type": "stream",
     "text": [
      "Epoch 21: 100%|██████████| 397/397 [00:09<00:00, 41.50it/s]\n"
     ]
    },
    {
     "name": "stdout",
     "output_type": "stream",
     "text": [
      "Epoch 21/150, Loss: 0.1049, Val Loss: 0.4563, Train Seq Acc: 0.9804, Val Seq Acc: 0.8811\n"
     ]
    },
    {
     "name": "stderr",
     "output_type": "stream",
     "text": [
      "Epoch 22: 100%|██████████| 397/397 [00:09<00:00, 42.94it/s]\n"
     ]
    },
    {
     "name": "stdout",
     "output_type": "stream",
     "text": [
      "Epoch 22/150, Loss: 0.1008, Val Loss: 0.5065, Train Seq Acc: 0.9740, Val Seq Acc: 0.8780\n"
     ]
    },
    {
     "name": "stderr",
     "output_type": "stream",
     "text": [
      "Epoch 23: 100%|██████████| 397/397 [00:09<00:00, 41.20it/s]\n"
     ]
    },
    {
     "name": "stdout",
     "output_type": "stream",
     "text": [
      "Epoch 23/150, Loss: 0.0809, Val Loss: 0.4785, Train Seq Acc: 0.9787, Val Seq Acc: 0.8896\n"
     ]
    },
    {
     "name": "stderr",
     "output_type": "stream",
     "text": [
      "Epoch 24: 100%|██████████| 397/397 [00:08<00:00, 44.38it/s]\n"
     ]
    },
    {
     "name": "stdout",
     "output_type": "stream",
     "text": [
      "Epoch 24/150, Loss: 0.0828, Val Loss: 0.5618, Train Seq Acc: 0.9690, Val Seq Acc: 0.8660\n"
     ]
    },
    {
     "name": "stderr",
     "output_type": "stream",
     "text": [
      "Epoch 25: 100%|██████████| 397/397 [00:09<00:00, 42.36it/s]\n"
     ]
    },
    {
     "name": "stdout",
     "output_type": "stream",
     "text": [
      "Epoch 25/150, Loss: 0.0760, Val Loss: 0.6015, Train Seq Acc: 0.9619, Val Seq Acc: 0.8556\n"
     ]
    },
    {
     "name": "stderr",
     "output_type": "stream",
     "text": [
      "Epoch 26: 100%|██████████| 397/397 [00:09<00:00, 40.46it/s]\n"
     ]
    },
    {
     "name": "stdout",
     "output_type": "stream",
     "text": [
      "Epoch 26/150, Loss: 0.0701, Val Loss: 4.4612, Train Seq Acc: 0.4756, Val Seq Acc: 0.4090\n"
     ]
    },
    {
     "name": "stderr",
     "output_type": "stream",
     "text": [
      "Epoch 27: 100%|██████████| 397/397 [00:09<00:00, 41.41it/s]\n"
     ]
    },
    {
     "name": "stdout",
     "output_type": "stream",
     "text": [
      "Epoch 27/150, Loss: 0.0718, Val Loss: 2.8141, Train Seq Acc: 0.5771, Val Seq Acc: 0.5061\n"
     ]
    },
    {
     "name": "stderr",
     "output_type": "stream",
     "text": [
      "Epoch 28: 100%|██████████| 397/397 [00:09<00:00, 42.31it/s]\n"
     ]
    },
    {
     "name": "stdout",
     "output_type": "stream",
     "text": [
      "Epoch 28/150, Loss: 0.0585, Val Loss: 0.4937, Train Seq Acc: 0.9806, Val Seq Acc: 0.8893\n"
     ]
    },
    {
     "name": "stderr",
     "output_type": "stream",
     "text": [
      "Epoch 29: 100%|██████████| 397/397 [00:09<00:00, 41.19it/s]\n"
     ]
    },
    {
     "name": "stdout",
     "output_type": "stream",
     "text": [
      "Epoch 29/150, Loss: 0.0828, Val Loss: 0.6006, Train Seq Acc: 0.9561, Val Seq Acc: 0.8594\n"
     ]
    },
    {
     "name": "stderr",
     "output_type": "stream",
     "text": [
      "Epoch 30: 100%|██████████| 397/397 [00:09<00:00, 40.84it/s]\n"
     ]
    },
    {
     "name": "stdout",
     "output_type": "stream",
     "text": [
      "Epoch 30/150, Loss: 0.0660, Val Loss: 0.4331, Train Seq Acc: 0.9909, Val Seq Acc: 0.9007\n"
     ]
    },
    {
     "name": "stderr",
     "output_type": "stream",
     "text": [
      "Epoch 31: 100%|██████████| 397/397 [00:09<00:00, 41.73it/s]\n"
     ]
    },
    {
     "name": "stdout",
     "output_type": "stream",
     "text": [
      "Epoch 31/150, Loss: 0.0415, Val Loss: 0.4475, Train Seq Acc: 0.9904, Val Seq Acc: 0.8969\n"
     ]
    },
    {
     "name": "stderr",
     "output_type": "stream",
     "text": [
      "Epoch 32: 100%|██████████| 397/397 [00:09<00:00, 42.33it/s]\n"
     ]
    },
    {
     "name": "stdout",
     "output_type": "stream",
     "text": [
      "Epoch 32/150, Loss: 0.0412, Val Loss: 0.4348, Train Seq Acc: 0.9857, Val Seq Acc: 0.9010\n"
     ]
    },
    {
     "name": "stderr",
     "output_type": "stream",
     "text": [
      "Epoch 33: 100%|██████████| 397/397 [00:09<00:00, 41.85it/s]\n"
     ]
    },
    {
     "name": "stdout",
     "output_type": "stream",
     "text": [
      "Epoch 33/150, Loss: 0.0585, Val Loss: 5.5606, Train Seq Acc: 0.3526, Val Seq Acc: 0.3012\n"
     ]
    },
    {
     "name": "stderr",
     "output_type": "stream",
     "text": [
      "Epoch 34: 100%|██████████| 397/397 [00:09<00:00, 41.94it/s]\n"
     ]
    },
    {
     "name": "stdout",
     "output_type": "stream",
     "text": [
      "Epoch 34/150, Loss: 0.0616, Val Loss: 0.5868, Train Seq Acc: 0.9666, Val Seq Acc: 0.8694\n"
     ]
    },
    {
     "name": "stderr",
     "output_type": "stream",
     "text": [
      "Epoch 35: 100%|██████████| 397/397 [00:09<00:00, 42.79it/s]\n"
     ]
    },
    {
     "name": "stdout",
     "output_type": "stream",
     "text": [
      "Epoch 35/150, Loss: 0.0568, Val Loss: 0.4907, Train Seq Acc: 0.9871, Val Seq Acc: 0.8918\n"
     ]
    },
    {
     "name": "stderr",
     "output_type": "stream",
     "text": [
      "Epoch 36: 100%|██████████| 397/397 [00:09<00:00, 41.31it/s]\n"
     ]
    },
    {
     "name": "stdout",
     "output_type": "stream",
     "text": [
      "Epoch 36/150, Loss: 0.0458, Val Loss: 0.4441, Train Seq Acc: 0.9874, Val Seq Acc: 0.9016\n"
     ]
    },
    {
     "name": "stderr",
     "output_type": "stream",
     "text": [
      "Epoch 37: 100%|██████████| 397/397 [00:09<00:00, 42.36it/s]\n"
     ]
    },
    {
     "name": "stdout",
     "output_type": "stream",
     "text": [
      "Epoch 37/150, Loss: 0.0447, Val Loss: 0.4448, Train Seq Acc: 0.9898, Val Seq Acc: 0.9051\n"
     ]
    },
    {
     "name": "stderr",
     "output_type": "stream",
     "text": [
      "Epoch 38: 100%|██████████| 397/397 [00:10<00:00, 39.08it/s]\n"
     ]
    },
    {
     "name": "stdout",
     "output_type": "stream",
     "text": [
      "Epoch 38/150, Loss: 0.0341, Val Loss: 0.5148, Train Seq Acc: 0.9849, Val Seq Acc: 0.8947\n"
     ]
    },
    {
     "name": "stderr",
     "output_type": "stream",
     "text": [
      "Epoch 39: 100%|██████████| 397/397 [00:09<00:00, 41.95it/s]\n"
     ]
    },
    {
     "name": "stdout",
     "output_type": "stream",
     "text": [
      "Epoch 39/150, Loss: 0.0272, Val Loss: 0.4142, Train Seq Acc: 0.9946, Val Seq Acc: 0.9190\n"
     ]
    },
    {
     "name": "stderr",
     "output_type": "stream",
     "text": [
      "Epoch 40: 100%|██████████| 397/397 [00:09<00:00, 42.49it/s]\n"
     ]
    },
    {
     "name": "stdout",
     "output_type": "stream",
     "text": [
      "Epoch 40/150, Loss: 0.0548, Val Loss: 0.4780, Train Seq Acc: 0.9831, Val Seq Acc: 0.8953\n"
     ]
    },
    {
     "name": "stderr",
     "output_type": "stream",
     "text": [
      "Epoch 41: 100%|██████████| 397/397 [00:09<00:00, 41.88it/s]\n"
     ]
    },
    {
     "name": "stdout",
     "output_type": "stream",
     "text": [
      "Epoch 41/150, Loss: 0.0571, Val Loss: 0.5033, Train Seq Acc: 0.9815, Val Seq Acc: 0.8906\n"
     ]
    },
    {
     "name": "stderr",
     "output_type": "stream",
     "text": [
      "Epoch 42: 100%|██████████| 397/397 [00:09<00:00, 41.59it/s]\n"
     ]
    },
    {
     "name": "stdout",
     "output_type": "stream",
     "text": [
      "Epoch 42/150, Loss: 0.0359, Val Loss: 0.4274, Train Seq Acc: 0.9925, Val Seq Acc: 0.9079\n"
     ]
    },
    {
     "name": "stderr",
     "output_type": "stream",
     "text": [
      "Epoch 43: 100%|██████████| 397/397 [00:09<00:00, 41.87it/s]\n"
     ]
    },
    {
     "name": "stdout",
     "output_type": "stream",
     "text": [
      "Epoch 43/150, Loss: 0.0275, Val Loss: 0.4877, Train Seq Acc: 0.9929, Val Seq Acc: 0.9003\n"
     ]
    },
    {
     "name": "stderr",
     "output_type": "stream",
     "text": [
      "Epoch 44: 100%|██████████| 397/397 [00:09<00:00, 42.04it/s]\n"
     ]
    },
    {
     "name": "stdout",
     "output_type": "stream",
     "text": [
      "Epoch 44/150, Loss: 0.0352, Val Loss: 0.5633, Train Seq Acc: 0.9871, Val Seq Acc: 0.8896\n"
     ]
    },
    {
     "name": "stderr",
     "output_type": "stream",
     "text": [
      "Epoch 45: 100%|██████████| 397/397 [00:09<00:00, 43.79it/s]\n"
     ]
    },
    {
     "name": "stdout",
     "output_type": "stream",
     "text": [
      "Epoch 45/150, Loss: 0.0482, Val Loss: 0.4831, Train Seq Acc: 0.9882, Val Seq Acc: 0.9076\n"
     ]
    },
    {
     "name": "stderr",
     "output_type": "stream",
     "text": [
      "Epoch 46: 100%|██████████| 397/397 [00:09<00:00, 41.97it/s]\n"
     ]
    },
    {
     "name": "stdout",
     "output_type": "stream",
     "text": [
      "Epoch 46/150, Loss: 0.0479, Val Loss: 0.4995, Train Seq Acc: 0.9893, Val Seq Acc: 0.8991\n"
     ]
    },
    {
     "name": "stderr",
     "output_type": "stream",
     "text": [
      "Epoch 47: 100%|██████████| 397/397 [00:09<00:00, 40.93it/s]\n"
     ]
    },
    {
     "name": "stdout",
     "output_type": "stream",
     "text": [
      "Epoch 47/150, Loss: 0.0276, Val Loss: 0.4506, Train Seq Acc: 0.9957, Val Seq Acc: 0.9082\n"
     ]
    },
    {
     "name": "stderr",
     "output_type": "stream",
     "text": [
      "Epoch 48: 100%|██████████| 397/397 [00:09<00:00, 42.12it/s]\n"
     ]
    },
    {
     "name": "stdout",
     "output_type": "stream",
     "text": [
      "Epoch 48/150, Loss: 0.0243, Val Loss: 0.8245, Train Seq Acc: 0.9328, Val Seq Acc: 0.8414\n"
     ]
    },
    {
     "name": "stderr",
     "output_type": "stream",
     "text": [
      "Epoch 49: 100%|██████████| 397/397 [00:09<00:00, 40.81it/s]\n"
     ]
    },
    {
     "name": "stdout",
     "output_type": "stream",
     "text": [
      "Epoch 49/150, Loss: 0.0309, Val Loss: 0.4777, Train Seq Acc: 0.9958, Val Seq Acc: 0.9117\n"
     ]
    },
    {
     "name": "stderr",
     "output_type": "stream",
     "text": [
      "Epoch 50: 100%|██████████| 397/397 [00:09<00:00, 43.95it/s]\n"
     ]
    },
    {
     "name": "stdout",
     "output_type": "stream",
     "text": [
      "Epoch 50/150, Loss: 0.0474, Val Loss: 0.4772, Train Seq Acc: 0.9949, Val Seq Acc: 0.9048\n"
     ]
    },
    {
     "name": "stderr",
     "output_type": "stream",
     "text": [
      "Epoch 51: 100%|██████████| 397/397 [00:09<00:00, 43.83it/s]\n"
     ]
    },
    {
     "name": "stdout",
     "output_type": "stream",
     "text": [
      "Epoch 51/150, Loss: 0.0395, Val Loss: 0.5339, Train Seq Acc: 0.9874, Val Seq Acc: 0.8862\n"
     ]
    },
    {
     "name": "stderr",
     "output_type": "stream",
     "text": [
      "Epoch 52: 100%|██████████| 397/397 [00:09<00:00, 41.12it/s]\n"
     ]
    },
    {
     "name": "stdout",
     "output_type": "stream",
     "text": [
      "Epoch 52/150, Loss: 0.0277, Val Loss: 0.4711, Train Seq Acc: 0.9955, Val Seq Acc: 0.9126\n"
     ]
    },
    {
     "name": "stderr",
     "output_type": "stream",
     "text": [
      "Epoch 53: 100%|██████████| 397/397 [00:09<00:00, 42.58it/s]\n"
     ]
    },
    {
     "name": "stdout",
     "output_type": "stream",
     "text": [
      "Epoch 53/150, Loss: 0.0243, Val Loss: 0.4343, Train Seq Acc: 0.9971, Val Seq Acc: 0.9161\n"
     ]
    },
    {
     "name": "stderr",
     "output_type": "stream",
     "text": [
      "Epoch 54: 100%|██████████| 397/397 [00:09<00:00, 42.65it/s]\n"
     ]
    },
    {
     "name": "stdout",
     "output_type": "stream",
     "text": [
      "Epoch 54/150, Loss: 0.0111, Val Loss: 0.4400, Train Seq Acc: 0.9983, Val Seq Acc: 0.9205\n"
     ]
    },
    {
     "name": "stderr",
     "output_type": "stream",
     "text": [
      "Epoch 55: 100%|██████████| 397/397 [00:09<00:00, 42.02it/s]\n"
     ]
    },
    {
     "name": "stdout",
     "output_type": "stream",
     "text": [
      "Epoch 55/150, Loss: 0.0182, Val Loss: 0.6729, Train Seq Acc: 0.9757, Val Seq Acc: 0.8726\n"
     ]
    },
    {
     "name": "stderr",
     "output_type": "stream",
     "text": [
      "Epoch 56: 100%|██████████| 397/397 [00:08<00:00, 44.80it/s]\n"
     ]
    },
    {
     "name": "stdout",
     "output_type": "stream",
     "text": [
      "Epoch 56/150, Loss: 0.0422, Val Loss: 0.5442, Train Seq Acc: 0.9925, Val Seq Acc: 0.9003\n"
     ]
    },
    {
     "name": "stderr",
     "output_type": "stream",
     "text": [
      "Epoch 57: 100%|██████████| 397/397 [00:09<00:00, 40.89it/s]\n"
     ]
    },
    {
     "name": "stdout",
     "output_type": "stream",
     "text": [
      "Epoch 57/150, Loss: 0.0402, Val Loss: 0.4722, Train Seq Acc: 0.9922, Val Seq Acc: 0.9108\n"
     ]
    },
    {
     "name": "stderr",
     "output_type": "stream",
     "text": [
      "Epoch 58: 100%|██████████| 397/397 [00:09<00:00, 41.32it/s]\n"
     ]
    },
    {
     "name": "stdout",
     "output_type": "stream",
     "text": [
      "Epoch 58/150, Loss: 0.0434, Val Loss: 0.4946, Train Seq Acc: 0.9921, Val Seq Acc: 0.8969\n"
     ]
    },
    {
     "name": "stderr",
     "output_type": "stream",
     "text": [
      "Epoch 59: 100%|██████████| 397/397 [00:09<00:00, 43.06it/s]\n"
     ]
    },
    {
     "name": "stdout",
     "output_type": "stream",
     "text": [
      "Epoch 59/150, Loss: 0.0340, Val Loss: 0.4995, Train Seq Acc: 0.9953, Val Seq Acc: 0.9092\n"
     ]
    },
    {
     "name": "stderr",
     "output_type": "stream",
     "text": [
      "Epoch 60: 100%|██████████| 397/397 [00:09<00:00, 42.02it/s]\n"
     ]
    },
    {
     "name": "stdout",
     "output_type": "stream",
     "text": [
      "Epoch 60/150, Loss: 0.0236, Val Loss: 0.4468, Train Seq Acc: 0.9968, Val Seq Acc: 0.9145\n"
     ]
    },
    {
     "name": "stderr",
     "output_type": "stream",
     "text": [
      "Epoch 61: 100%|██████████| 397/397 [00:08<00:00, 44.13it/s]\n"
     ]
    },
    {
     "name": "stdout",
     "output_type": "stream",
     "text": [
      "Epoch 61/150, Loss: 0.0219, Val Loss: 0.4832, Train Seq Acc: 0.9869, Val Seq Acc: 0.9073\n"
     ]
    },
    {
     "name": "stderr",
     "output_type": "stream",
     "text": [
      "Epoch 62: 100%|██████████| 397/397 [00:09<00:00, 41.79it/s]\n"
     ]
    },
    {
     "name": "stdout",
     "output_type": "stream",
     "text": [
      "Epoch 62/150, Loss: 0.0159, Val Loss: 0.4645, Train Seq Acc: 0.9939, Val Seq Acc: 0.9152\n"
     ]
    },
    {
     "name": "stderr",
     "output_type": "stream",
     "text": [
      "Epoch 63: 100%|██████████| 397/397 [00:09<00:00, 40.60it/s]\n"
     ]
    },
    {
     "name": "stdout",
     "output_type": "stream",
     "text": [
      "Epoch 63/150, Loss: 0.0340, Val Loss: 0.5251, Train Seq Acc: 0.9884, Val Seq Acc: 0.9076\n"
     ]
    },
    {
     "name": "stderr",
     "output_type": "stream",
     "text": [
      "Epoch 64: 100%|██████████| 397/397 [00:09<00:00, 43.17it/s]\n"
     ]
    },
    {
     "name": "stdout",
     "output_type": "stream",
     "text": [
      "Epoch 64/150, Loss: 0.0397, Val Loss: 0.4625, Train Seq Acc: 0.9942, Val Seq Acc: 0.9104\n"
     ]
    },
    {
     "name": "stderr",
     "output_type": "stream",
     "text": [
      "Epoch 65: 100%|██████████| 397/397 [00:09<00:00, 41.45it/s]\n"
     ]
    },
    {
     "name": "stdout",
     "output_type": "stream",
     "text": [
      "Epoch 65/150, Loss: 0.0218, Val Loss: 0.4767, Train Seq Acc: 0.9927, Val Seq Acc: 0.9104\n"
     ]
    },
    {
     "name": "stderr",
     "output_type": "stream",
     "text": [
      "Epoch 66: 100%|██████████| 397/397 [00:09<00:00, 43.60it/s]\n"
     ]
    },
    {
     "name": "stdout",
     "output_type": "stream",
     "text": [
      "Epoch 66/150, Loss: 0.0172, Val Loss: 0.4379, Train Seq Acc: 0.9968, Val Seq Acc: 0.9155\n"
     ]
    },
    {
     "name": "stderr",
     "output_type": "stream",
     "text": [
      "Epoch 67: 100%|██████████| 397/397 [00:09<00:00, 43.23it/s]\n"
     ]
    },
    {
     "name": "stdout",
     "output_type": "stream",
     "text": [
      "Epoch 67/150, Loss: 0.0205, Val Loss: 0.5150, Train Seq Acc: 0.9958, Val Seq Acc: 0.9082\n"
     ]
    },
    {
     "name": "stderr",
     "output_type": "stream",
     "text": [
      "Epoch 68: 100%|██████████| 397/397 [00:09<00:00, 40.87it/s]\n"
     ]
    },
    {
     "name": "stdout",
     "output_type": "stream",
     "text": [
      "Epoch 68/150, Loss: 0.0226, Val Loss: 0.4845, Train Seq Acc: 0.9954, Val Seq Acc: 0.9155\n"
     ]
    },
    {
     "name": "stderr",
     "output_type": "stream",
     "text": [
      "Epoch 69: 100%|██████████| 397/397 [00:09<00:00, 42.36it/s]\n"
     ]
    },
    {
     "name": "stdout",
     "output_type": "stream",
     "text": [
      "Epoch 69/150, Loss: 0.0300, Val Loss: 0.5223, Train Seq Acc: 0.9915, Val Seq Acc: 0.9095\n"
     ]
    },
    {
     "name": "stderr",
     "output_type": "stream",
     "text": [
      "Epoch 70: 100%|██████████| 397/397 [00:09<00:00, 41.69it/s]\n"
     ]
    },
    {
     "name": "stdout",
     "output_type": "stream",
     "text": [
      "Epoch 70/150, Loss: 0.0323, Val Loss: 0.4928, Train Seq Acc: 0.9906, Val Seq Acc: 0.9060\n"
     ]
    },
    {
     "name": "stderr",
     "output_type": "stream",
     "text": [
      "Epoch 71: 100%|██████████| 397/397 [00:09<00:00, 43.38it/s]\n"
     ]
    },
    {
     "name": "stdout",
     "output_type": "stream",
     "text": [
      "Epoch 71/150, Loss: 0.0291, Val Loss: 0.5876, Train Seq Acc: 0.9827, Val Seq Acc: 0.8944\n"
     ]
    },
    {
     "name": "stderr",
     "output_type": "stream",
     "text": [
      "Epoch 72: 100%|██████████| 397/397 [00:09<00:00, 42.87it/s]\n"
     ]
    },
    {
     "name": "stdout",
     "output_type": "stream",
     "text": [
      "Epoch 72/150, Loss: 0.0278, Val Loss: 0.5378, Train Seq Acc: 0.9924, Val Seq Acc: 0.9104\n"
     ]
    },
    {
     "name": "stderr",
     "output_type": "stream",
     "text": [
      "Epoch 73: 100%|██████████| 397/397 [00:09<00:00, 40.95it/s]\n"
     ]
    },
    {
     "name": "stdout",
     "output_type": "stream",
     "text": [
      "Epoch 73/150, Loss: 0.0250, Val Loss: 0.5089, Train Seq Acc: 0.9961, Val Seq Acc: 0.9133\n"
     ]
    },
    {
     "name": "stderr",
     "output_type": "stream",
     "text": [
      "Epoch 74: 100%|██████████| 397/397 [00:09<00:00, 42.15it/s]\n"
     ]
    },
    {
     "name": "stdout",
     "output_type": "stream",
     "text": [
      "Epoch 74/150, Loss: 0.0213, Val Loss: 0.6181, Train Seq Acc: 0.9838, Val Seq Acc: 0.8962\n"
     ]
    },
    {
     "name": "stderr",
     "output_type": "stream",
     "text": [
      "Epoch 75: 100%|██████████| 397/397 [00:09<00:00, 42.48it/s]\n"
     ]
    },
    {
     "name": "stdout",
     "output_type": "stream",
     "text": [
      "Epoch 75/150, Loss: 0.0244, Val Loss: 0.5388, Train Seq Acc: 0.9934, Val Seq Acc: 0.9120\n"
     ]
    },
    {
     "name": "stderr",
     "output_type": "stream",
     "text": [
      "Epoch 76: 100%|██████████| 397/397 [00:09<00:00, 42.30it/s]\n"
     ]
    },
    {
     "name": "stdout",
     "output_type": "stream",
     "text": [
      "Epoch 76/150, Loss: 0.0140, Val Loss: 0.4695, Train Seq Acc: 0.9980, Val Seq Acc: 0.9224\n"
     ]
    },
    {
     "name": "stderr",
     "output_type": "stream",
     "text": [
      "Epoch 77: 100%|██████████| 397/397 [00:08<00:00, 44.19it/s]\n"
     ]
    },
    {
     "name": "stdout",
     "output_type": "stream",
     "text": [
      "Epoch 77/150, Loss: 0.0110, Val Loss: 0.7983, Train Seq Acc: 0.9614, Val Seq Acc: 0.8754\n"
     ]
    },
    {
     "name": "stderr",
     "output_type": "stream",
     "text": [
      "Epoch 78: 100%|██████████| 397/397 [00:09<00:00, 41.50it/s]\n"
     ]
    },
    {
     "name": "stdout",
     "output_type": "stream",
     "text": [
      "Epoch 78/150, Loss: 0.0294, Val Loss: 0.6380, Train Seq Acc: 0.9772, Val Seq Acc: 0.8899\n"
     ]
    },
    {
     "name": "stderr",
     "output_type": "stream",
     "text": [
      "Epoch 79: 100%|██████████| 397/397 [00:09<00:00, 41.39it/s]\n"
     ]
    },
    {
     "name": "stdout",
     "output_type": "stream",
     "text": [
      "Epoch 79/150, Loss: 0.0291, Val Loss: 0.4735, Train Seq Acc: 0.9959, Val Seq Acc: 0.9095\n"
     ]
    },
    {
     "name": "stderr",
     "output_type": "stream",
     "text": [
      "Epoch 80: 100%|██████████| 397/397 [00:09<00:00, 42.91it/s]\n"
     ]
    },
    {
     "name": "stdout",
     "output_type": "stream",
     "text": [
      "Epoch 80/150, Loss: 0.0177, Val Loss: 0.5330, Train Seq Acc: 0.9923, Val Seq Acc: 0.9054\n"
     ]
    },
    {
     "name": "stderr",
     "output_type": "stream",
     "text": [
      "Epoch 81: 100%|██████████| 397/397 [00:09<00:00, 41.36it/s]\n"
     ]
    },
    {
     "name": "stdout",
     "output_type": "stream",
     "text": [
      "Epoch 81/150, Loss: 0.0153, Val Loss: 0.6259, Train Seq Acc: 0.9862, Val Seq Acc: 0.8915\n"
     ]
    },
    {
     "name": "stderr",
     "output_type": "stream",
     "text": [
      "Epoch 82: 100%|██████████| 397/397 [00:09<00:00, 44.07it/s]\n"
     ]
    },
    {
     "name": "stdout",
     "output_type": "stream",
     "text": [
      "Epoch 82/150, Loss: 0.0234, Val Loss: 0.5737, Train Seq Acc: 0.9925, Val Seq Acc: 0.9032\n"
     ]
    },
    {
     "name": "stderr",
     "output_type": "stream",
     "text": [
      "Epoch 83: 100%|██████████| 397/397 [00:09<00:00, 41.79it/s]\n"
     ]
    },
    {
     "name": "stdout",
     "output_type": "stream",
     "text": [
      "Epoch 83/150, Loss: 0.0377, Val Loss: 0.8580, Train Seq Acc: 0.9587, Val Seq Acc: 0.8688\n"
     ]
    },
    {
     "name": "stderr",
     "output_type": "stream",
     "text": [
      "Epoch 84: 100%|██████████| 397/397 [00:09<00:00, 41.06it/s]\n"
     ]
    },
    {
     "name": "stdout",
     "output_type": "stream",
     "text": [
      "Epoch 84/150, Loss: 0.0243, Val Loss: 0.4901, Train Seq Acc: 0.9984, Val Seq Acc: 0.9152\n"
     ]
    },
    {
     "name": "stderr",
     "output_type": "stream",
     "text": [
      "Epoch 85: 100%|██████████| 397/397 [00:09<00:00, 43.62it/s]\n"
     ]
    },
    {
     "name": "stdout",
     "output_type": "stream",
     "text": [
      "Epoch 85/150, Loss: 0.0144, Val Loss: 0.5344, Train Seq Acc: 0.9956, Val Seq Acc: 0.9126\n"
     ]
    },
    {
     "name": "stderr",
     "output_type": "stream",
     "text": [
      "Epoch 86: 100%|██████████| 397/397 [00:09<00:00, 40.93it/s]\n"
     ]
    },
    {
     "name": "stdout",
     "output_type": "stream",
     "text": [
      "Epoch 86/150, Loss: 0.0163, Val Loss: 0.4917, Train Seq Acc: 0.9969, Val Seq Acc: 0.9186\n"
     ]
    },
    {
     "name": "stderr",
     "output_type": "stream",
     "text": [
      "Epoch 87: 100%|██████████| 397/397 [00:09<00:00, 43.47it/s]\n"
     ]
    },
    {
     "name": "stdout",
     "output_type": "stream",
     "text": [
      "Epoch 87/150, Loss: 0.0250, Val Loss: 0.5645, Train Seq Acc: 0.9916, Val Seq Acc: 0.9060\n"
     ]
    },
    {
     "name": "stderr",
     "output_type": "stream",
     "text": [
      "Epoch 88: 100%|██████████| 397/397 [00:09<00:00, 43.24it/s]\n"
     ]
    },
    {
     "name": "stdout",
     "output_type": "stream",
     "text": [
      "Epoch 88/150, Loss: 0.0251, Val Loss: 0.5489, Train Seq Acc: 0.9910, Val Seq Acc: 0.9098\n"
     ]
    },
    {
     "name": "stderr",
     "output_type": "stream",
     "text": [
      "Epoch 89: 100%|██████████| 397/397 [00:09<00:00, 40.97it/s]\n"
     ]
    },
    {
     "name": "stdout",
     "output_type": "stream",
     "text": [
      "Epoch 89/150, Loss: 0.0118, Val Loss: 0.4788, Train Seq Acc: 0.9976, Val Seq Acc: 0.9212\n"
     ]
    },
    {
     "name": "stderr",
     "output_type": "stream",
     "text": [
      "Epoch 90: 100%|██████████| 397/397 [00:09<00:00, 41.91it/s]\n"
     ]
    },
    {
     "name": "stdout",
     "output_type": "stream",
     "text": [
      "Epoch 90/150, Loss: 0.0087, Val Loss: 0.4774, Train Seq Acc: 0.9972, Val Seq Acc: 0.9208\n"
     ]
    },
    {
     "name": "stderr",
     "output_type": "stream",
     "text": [
      "Epoch 91: 100%|██████████| 397/397 [00:09<00:00, 40.29it/s]\n"
     ]
    },
    {
     "name": "stdout",
     "output_type": "stream",
     "text": [
      "Epoch 91/150, Loss: 0.0062, Val Loss: 0.4485, Train Seq Acc: 0.9982, Val Seq Acc: 0.9231\n"
     ]
    },
    {
     "name": "stderr",
     "output_type": "stream",
     "text": [
      "Epoch 92: 100%|██████████| 397/397 [00:09<00:00, 42.80it/s]\n"
     ]
    },
    {
     "name": "stdout",
     "output_type": "stream",
     "text": [
      "Epoch 92/150, Loss: 0.0074, Val Loss: 0.4670, Train Seq Acc: 0.9994, Val Seq Acc: 0.9186\n"
     ]
    },
    {
     "name": "stderr",
     "output_type": "stream",
     "text": [
      "Epoch 93: 100%|██████████| 397/397 [00:09<00:00, 42.16it/s]\n"
     ]
    },
    {
     "name": "stdout",
     "output_type": "stream",
     "text": [
      "Epoch 93/150, Loss: 0.0325, Val Loss: 0.5473, Train Seq Acc: 0.9900, Val Seq Acc: 0.9057\n"
     ]
    },
    {
     "name": "stderr",
     "output_type": "stream",
     "text": [
      "Epoch 94: 100%|██████████| 397/397 [00:09<00:00, 41.14it/s]\n"
     ]
    },
    {
     "name": "stdout",
     "output_type": "stream",
     "text": [
      "Epoch 94/150, Loss: 0.0426, Val Loss: 0.5208, Train Seq Acc: 0.9938, Val Seq Acc: 0.9067\n"
     ]
    },
    {
     "name": "stderr",
     "output_type": "stream",
     "text": [
      "Epoch 95: 100%|██████████| 397/397 [00:09<00:00, 41.71it/s]\n"
     ]
    },
    {
     "name": "stdout",
     "output_type": "stream",
     "text": [
      "Epoch 95/150, Loss: 0.0268, Val Loss: 0.5103, Train Seq Acc: 0.9957, Val Seq Acc: 0.9161\n"
     ]
    },
    {
     "name": "stderr",
     "output_type": "stream",
     "text": [
      "Epoch 96: 100%|██████████| 397/397 [00:09<00:00, 41.90it/s]\n"
     ]
    },
    {
     "name": "stdout",
     "output_type": "stream",
     "text": [
      "Epoch 96/150, Loss: 0.0115, Val Loss: 0.4866, Train Seq Acc: 0.9968, Val Seq Acc: 0.9190\n"
     ]
    },
    {
     "name": "stderr",
     "output_type": "stream",
     "text": [
      "Epoch 97: 100%|██████████| 397/397 [00:09<00:00, 41.60it/s]\n"
     ]
    },
    {
     "name": "stdout",
     "output_type": "stream",
     "text": [
      "Epoch 97/150, Loss: 0.0181, Val Loss: 0.6984, Train Seq Acc: 0.9741, Val Seq Acc: 0.8814\n"
     ]
    },
    {
     "name": "stderr",
     "output_type": "stream",
     "text": [
      "Epoch 98: 100%|██████████| 397/397 [00:09<00:00, 43.69it/s]\n"
     ]
    },
    {
     "name": "stdout",
     "output_type": "stream",
     "text": [
      "Epoch 98/150, Loss: 0.0151, Val Loss: 0.5092, Train Seq Acc: 0.9946, Val Seq Acc: 0.9177\n"
     ]
    },
    {
     "name": "stderr",
     "output_type": "stream",
     "text": [
      "Epoch 99: 100%|██████████| 397/397 [00:09<00:00, 41.05it/s]\n"
     ]
    },
    {
     "name": "stdout",
     "output_type": "stream",
     "text": [
      "Epoch 99/150, Loss: 0.0174, Val Loss: 0.6060, Train Seq Acc: 0.9930, Val Seq Acc: 0.9035\n"
     ]
    },
    {
     "name": "stderr",
     "output_type": "stream",
     "text": [
      "Epoch 100: 100%|██████████| 397/397 [00:09<00:00, 43.60it/s]\n"
     ]
    },
    {
     "name": "stdout",
     "output_type": "stream",
     "text": [
      "Epoch 100/150, Loss: 0.0189, Val Loss: 0.4900, Train Seq Acc: 0.9961, Val Seq Acc: 0.9237\n"
     ]
    },
    {
     "name": "stderr",
     "output_type": "stream",
     "text": [
      "Epoch 101: 100%|██████████| 397/397 [00:09<00:00, 40.66it/s]\n"
     ]
    },
    {
     "name": "stdout",
     "output_type": "stream",
     "text": [
      "Epoch 101/150, Loss: 0.0237, Val Loss: 0.5860, Train Seq Acc: 0.9949, Val Seq Acc: 0.9092\n"
     ]
    },
    {
     "name": "stderr",
     "output_type": "stream",
     "text": [
      "Epoch 102: 100%|██████████| 397/397 [00:09<00:00, 42.45it/s]\n"
     ]
    },
    {
     "name": "stdout",
     "output_type": "stream",
     "text": [
      "Epoch 102/150, Loss: 0.0191, Val Loss: 0.5098, Train Seq Acc: 0.9972, Val Seq Acc: 0.9224\n"
     ]
    },
    {
     "name": "stderr",
     "output_type": "stream",
     "text": [
      "Epoch 103: 100%|██████████| 397/397 [00:09<00:00, 43.42it/s]\n"
     ]
    },
    {
     "name": "stdout",
     "output_type": "stream",
     "text": [
      "Epoch 103/150, Loss: 0.0122, Val Loss: 0.5470, Train Seq Acc: 0.9986, Val Seq Acc: 0.9237\n"
     ]
    },
    {
     "name": "stderr",
     "output_type": "stream",
     "text": [
      "Epoch 104: 100%|██████████| 397/397 [00:09<00:00, 41.21it/s]\n"
     ]
    },
    {
     "name": "stdout",
     "output_type": "stream",
     "text": [
      "Epoch 104/150, Loss: 0.0095, Val Loss: 0.5439, Train Seq Acc: 0.9968, Val Seq Acc: 0.9186\n"
     ]
    },
    {
     "name": "stderr",
     "output_type": "stream",
     "text": [
      "Epoch 105: 100%|██████████| 397/397 [00:09<00:00, 40.87it/s]\n"
     ]
    },
    {
     "name": "stdout",
     "output_type": "stream",
     "text": [
      "Epoch 105/150, Loss: 0.0239, Val Loss: 0.7030, Train Seq Acc: 0.9841, Val Seq Acc: 0.8931\n"
     ]
    },
    {
     "name": "stderr",
     "output_type": "stream",
     "text": [
      "Epoch 106: 100%|██████████| 397/397 [00:09<00:00, 41.90it/s]\n"
     ]
    },
    {
     "name": "stdout",
     "output_type": "stream",
     "text": [
      "Epoch 106/150, Loss: 0.0223, Val Loss: 0.5503, Train Seq Acc: 0.9975, Val Seq Acc: 0.9120\n"
     ]
    },
    {
     "name": "stderr",
     "output_type": "stream",
     "text": [
      "Epoch 107: 100%|██████████| 397/397 [00:09<00:00, 41.71it/s]\n"
     ]
    },
    {
     "name": "stdout",
     "output_type": "stream",
     "text": [
      "Epoch 107/150, Loss: 0.0227, Val Loss: 0.5865, Train Seq Acc: 0.9962, Val Seq Acc: 0.9149\n"
     ]
    },
    {
     "name": "stderr",
     "output_type": "stream",
     "text": [
      "Epoch 108: 100%|██████████| 397/397 [00:09<00:00, 42.96it/s]\n"
     ]
    },
    {
     "name": "stdout",
     "output_type": "stream",
     "text": [
      "Epoch 108/150, Loss: 0.0151, Val Loss: 0.5162, Train Seq Acc: 0.9976, Val Seq Acc: 0.9167\n"
     ]
    },
    {
     "name": "stderr",
     "output_type": "stream",
     "text": [
      "Epoch 109: 100%|██████████| 397/397 [00:09<00:00, 41.15it/s]\n"
     ]
    },
    {
     "name": "stdout",
     "output_type": "stream",
     "text": [
      "Epoch 109/150, Loss: 0.0186, Val Loss: 0.5515, Train Seq Acc: 0.9981, Val Seq Acc: 0.9186\n"
     ]
    },
    {
     "name": "stderr",
     "output_type": "stream",
     "text": [
      "Epoch 110: 100%|██████████| 397/397 [00:09<00:00, 40.85it/s]\n"
     ]
    },
    {
     "name": "stdout",
     "output_type": "stream",
     "text": [
      "Epoch 110/150, Loss: 0.0167, Val Loss: 0.5642, Train Seq Acc: 0.9976, Val Seq Acc: 0.9152\n"
     ]
    },
    {
     "name": "stderr",
     "output_type": "stream",
     "text": [
      "Epoch 111: 100%|██████████| 397/397 [00:09<00:00, 41.45it/s]\n"
     ]
    },
    {
     "name": "stdout",
     "output_type": "stream",
     "text": [
      "Epoch 111/150, Loss: 0.0142, Val Loss: 0.6626, Train Seq Acc: 0.9904, Val Seq Acc: 0.8997\n"
     ]
    },
    {
     "name": "stderr",
     "output_type": "stream",
     "text": [
      "Epoch 112: 100%|██████████| 397/397 [00:09<00:00, 41.72it/s]\n"
     ]
    },
    {
     "name": "stdout",
     "output_type": "stream",
     "text": [
      "Epoch 112/150, Loss: 0.0156, Val Loss: 0.5017, Train Seq Acc: 0.9991, Val Seq Acc: 0.9224\n"
     ]
    },
    {
     "name": "stderr",
     "output_type": "stream",
     "text": [
      "Epoch 113: 100%|██████████| 397/397 [00:09<00:00, 43.05it/s]\n"
     ]
    },
    {
     "name": "stdout",
     "output_type": "stream",
     "text": [
      "Epoch 113/150, Loss: 0.0086, Val Loss: 0.6026, Train Seq Acc: 0.9946, Val Seq Acc: 0.9123\n"
     ]
    },
    {
     "name": "stderr",
     "output_type": "stream",
     "text": [
      "Epoch 114: 100%|██████████| 397/397 [00:09<00:00, 42.67it/s]\n"
     ]
    },
    {
     "name": "stdout",
     "output_type": "stream",
     "text": [
      "Epoch 114/150, Loss: 0.0162, Val Loss: 14.3553, Train Seq Acc: 0.0665, Val Seq Acc: 0.0574\n"
     ]
    },
    {
     "name": "stderr",
     "output_type": "stream",
     "text": [
      "Epoch 115: 100%|██████████| 397/397 [00:09<00:00, 40.82it/s]\n"
     ]
    },
    {
     "name": "stdout",
     "output_type": "stream",
     "text": [
      "Epoch 115/150, Loss: 0.0223, Val Loss: 0.5676, Train Seq Acc: 0.9939, Val Seq Acc: 0.9085\n"
     ]
    },
    {
     "name": "stderr",
     "output_type": "stream",
     "text": [
      "Epoch 116: 100%|██████████| 397/397 [00:09<00:00, 43.07it/s]\n"
     ]
    },
    {
     "name": "stdout",
     "output_type": "stream",
     "text": [
      "Epoch 116/150, Loss: 0.0224, Val Loss: 0.5725, Train Seq Acc: 0.9948, Val Seq Acc: 0.9092\n"
     ]
    },
    {
     "name": "stderr",
     "output_type": "stream",
     "text": [
      "Epoch 117: 100%|██████████| 397/397 [00:09<00:00, 41.66it/s]\n"
     ]
    },
    {
     "name": "stdout",
     "output_type": "stream",
     "text": [
      "Epoch 117/150, Loss: 0.0255, Val Loss: 0.4890, Train Seq Acc: 0.9985, Val Seq Acc: 0.9202\n"
     ]
    },
    {
     "name": "stderr",
     "output_type": "stream",
     "text": [
      "Epoch 118: 100%|██████████| 397/397 [00:09<00:00, 42.02it/s]\n"
     ]
    },
    {
     "name": "stdout",
     "output_type": "stream",
     "text": [
      "Epoch 118/150, Loss: 0.0144, Val Loss: 0.4935, Train Seq Acc: 0.9983, Val Seq Acc: 0.9237\n"
     ]
    },
    {
     "name": "stderr",
     "output_type": "stream",
     "text": [
      "Epoch 119: 100%|██████████| 397/397 [00:09<00:00, 42.84it/s]\n"
     ]
    },
    {
     "name": "stdout",
     "output_type": "stream",
     "text": [
      "Epoch 119/150, Loss: 0.0092, Val Loss: 0.4932, Train Seq Acc: 0.9995, Val Seq Acc: 0.9268\n"
     ]
    },
    {
     "name": "stderr",
     "output_type": "stream",
     "text": [
      "Epoch 120: 100%|██████████| 397/397 [00:09<00:00, 40.90it/s]\n"
     ]
    },
    {
     "name": "stdout",
     "output_type": "stream",
     "text": [
      "Epoch 120/150, Loss: 0.0101, Val Loss: 0.5291, Train Seq Acc: 0.9948, Val Seq Acc: 0.9111\n"
     ]
    },
    {
     "name": "stderr",
     "output_type": "stream",
     "text": [
      "Epoch 121: 100%|██████████| 397/397 [00:09<00:00, 42.37it/s]\n"
     ]
    },
    {
     "name": "stdout",
     "output_type": "stream",
     "text": [
      "Epoch 121/150, Loss: 0.0176, Val Loss: 4.1341, Train Seq Acc: 0.6072, Val Seq Acc: 0.5348\n"
     ]
    },
    {
     "name": "stderr",
     "output_type": "stream",
     "text": [
      "Epoch 122: 100%|██████████| 397/397 [00:09<00:00, 41.61it/s]\n"
     ]
    },
    {
     "name": "stdout",
     "output_type": "stream",
     "text": [
      "Epoch 122/150, Loss: 0.0299, Val Loss: 0.5777, Train Seq Acc: 0.9944, Val Seq Acc: 0.9177\n"
     ]
    },
    {
     "name": "stderr",
     "output_type": "stream",
     "text": [
      "Epoch 123: 100%|██████████| 397/397 [00:09<00:00, 42.39it/s]\n"
     ]
    },
    {
     "name": "stdout",
     "output_type": "stream",
     "text": [
      "Epoch 123/150, Loss: 0.0186, Val Loss: 0.5494, Train Seq Acc: 0.9978, Val Seq Acc: 0.9196\n"
     ]
    },
    {
     "name": "stderr",
     "output_type": "stream",
     "text": [
      "Epoch 124: 100%|██████████| 397/397 [00:09<00:00, 42.10it/s]\n"
     ]
    },
    {
     "name": "stdout",
     "output_type": "stream",
     "text": [
      "Epoch 124/150, Loss: 0.0111, Val Loss: 0.6103, Train Seq Acc: 0.9935, Val Seq Acc: 0.9123\n"
     ]
    },
    {
     "name": "stderr",
     "output_type": "stream",
     "text": [
      "Epoch 125: 100%|██████████| 397/397 [00:09<00:00, 40.67it/s]\n"
     ]
    },
    {
     "name": "stdout",
     "output_type": "stream",
     "text": [
      "Epoch 125/150, Loss: 0.0184, Val Loss: 0.5506, Train Seq Acc: 0.9947, Val Seq Acc: 0.9139\n"
     ]
    },
    {
     "name": "stderr",
     "output_type": "stream",
     "text": [
      "Epoch 126: 100%|██████████| 397/397 [00:09<00:00, 43.81it/s]\n"
     ]
    },
    {
     "name": "stdout",
     "output_type": "stream",
     "text": [
      "Epoch 126/150, Loss: 0.0114, Val Loss: 0.4948, Train Seq Acc: 0.9987, Val Seq Acc: 0.9215\n"
     ]
    },
    {
     "name": "stderr",
     "output_type": "stream",
     "text": [
      "Epoch 127: 100%|██████████| 397/397 [00:09<00:00, 41.00it/s]\n"
     ]
    },
    {
     "name": "stdout",
     "output_type": "stream",
     "text": [
      "Epoch 127/150, Loss: 0.0065, Val Loss: 0.4853, Train Seq Acc: 0.9984, Val Seq Acc: 0.9256\n"
     ]
    },
    {
     "name": "stderr",
     "output_type": "stream",
     "text": [
      "Epoch 128: 100%|██████████| 397/397 [00:09<00:00, 41.53it/s]\n"
     ]
    },
    {
     "name": "stdout",
     "output_type": "stream",
     "text": [
      "Epoch 128/150, Loss: 0.0087, Val Loss: 0.4808, Train Seq Acc: 0.9991, Val Seq Acc: 0.9303\n"
     ]
    },
    {
     "name": "stderr",
     "output_type": "stream",
     "text": [
      "Epoch 129: 100%|██████████| 397/397 [00:09<00:00, 42.16it/s]\n"
     ]
    },
    {
     "name": "stdout",
     "output_type": "stream",
     "text": [
      "Epoch 129/150, Loss: 0.0182, Val Loss: 0.5408, Train Seq Acc: 0.9970, Val Seq Acc: 0.9161\n"
     ]
    },
    {
     "name": "stderr",
     "output_type": "stream",
     "text": [
      "Epoch 130: 100%|██████████| 397/397 [00:09<00:00, 40.66it/s]\n"
     ]
    },
    {
     "name": "stdout",
     "output_type": "stream",
     "text": [
      "Epoch 130/150, Loss: 0.0162, Val Loss: 0.5474, Train Seq Acc: 0.9953, Val Seq Acc: 0.9171\n"
     ]
    },
    {
     "name": "stderr",
     "output_type": "stream",
     "text": [
      "Epoch 131: 100%|██████████| 397/397 [00:09<00:00, 42.58it/s]\n"
     ]
    },
    {
     "name": "stdout",
     "output_type": "stream",
     "text": [
      "Epoch 131/150, Loss: 0.0266, Val Loss: 0.5719, Train Seq Acc: 0.9965, Val Seq Acc: 0.9158\n"
     ]
    },
    {
     "name": "stderr",
     "output_type": "stream",
     "text": [
      "Epoch 132: 100%|██████████| 397/397 [00:09<00:00, 41.50it/s]\n"
     ]
    },
    {
     "name": "stdout",
     "output_type": "stream",
     "text": [
      "Epoch 132/150, Loss: 0.0202, Val Loss: 0.5604, Train Seq Acc: 0.9968, Val Seq Acc: 0.9205\n"
     ]
    },
    {
     "name": "stderr",
     "output_type": "stream",
     "text": [
      "Epoch 133: 100%|██████████| 397/397 [00:09<00:00, 41.98it/s]\n"
     ]
    },
    {
     "name": "stdout",
     "output_type": "stream",
     "text": [
      "Epoch 133/150, Loss: 0.0136, Val Loss: 0.5308, Train Seq Acc: 0.9987, Val Seq Acc: 0.9205\n"
     ]
    },
    {
     "name": "stderr",
     "output_type": "stream",
     "text": [
      "Epoch 134: 100%|██████████| 397/397 [00:09<00:00, 43.61it/s]\n"
     ]
    },
    {
     "name": "stdout",
     "output_type": "stream",
     "text": [
      "Epoch 134/150, Loss: 0.0085, Val Loss: 0.5811, Train Seq Acc: 0.9961, Val Seq Acc: 0.9158\n"
     ]
    },
    {
     "name": "stderr",
     "output_type": "stream",
     "text": [
      "Epoch 135: 100%|██████████| 397/397 [00:09<00:00, 40.97it/s]\n"
     ]
    },
    {
     "name": "stdout",
     "output_type": "stream",
     "text": [
      "Epoch 135/150, Loss: 0.0069, Val Loss: 0.4818, Train Seq Acc: 0.9985, Val Seq Acc: 0.9303\n"
     ]
    },
    {
     "name": "stderr",
     "output_type": "stream",
     "text": [
      "Epoch 136: 100%|██████████| 397/397 [00:09<00:00, 42.92it/s]\n"
     ]
    },
    {
     "name": "stdout",
     "output_type": "stream",
     "text": [
      "Epoch 136/150, Loss: 0.0108, Val Loss: 0.5018, Train Seq Acc: 0.9979, Val Seq Acc: 0.9294\n"
     ]
    },
    {
     "name": "stderr",
     "output_type": "stream",
     "text": [
      "Epoch 137: 100%|██████████| 397/397 [00:09<00:00, 42.25it/s]\n"
     ]
    },
    {
     "name": "stdout",
     "output_type": "stream",
     "text": [
      "Epoch 137/150, Loss: 0.0091, Val Loss: 0.5753, Train Seq Acc: 0.9979, Val Seq Acc: 0.9167\n"
     ]
    },
    {
     "name": "stderr",
     "output_type": "stream",
     "text": [
      "Epoch 138: 100%|██████████| 397/397 [00:09<00:00, 41.47it/s]\n"
     ]
    },
    {
     "name": "stdout",
     "output_type": "stream",
     "text": [
      "Epoch 138/150, Loss: 0.0309, Val Loss: 0.6461, Train Seq Acc: 0.9903, Val Seq Acc: 0.8944\n"
     ]
    },
    {
     "name": "stderr",
     "output_type": "stream",
     "text": [
      "Epoch 139: 100%|██████████| 397/397 [00:09<00:00, 43.76it/s]\n"
     ]
    },
    {
     "name": "stdout",
     "output_type": "stream",
     "text": [
      "Epoch 139/150, Loss: 0.0239, Val Loss: 0.5570, Train Seq Acc: 0.9942, Val Seq Acc: 0.9145\n"
     ]
    },
    {
     "name": "stderr",
     "output_type": "stream",
     "text": [
      "Epoch 140: 100%|██████████| 397/397 [00:09<00:00, 41.86it/s]\n"
     ]
    },
    {
     "name": "stdout",
     "output_type": "stream",
     "text": [
      "Epoch 140/150, Loss: 0.0079, Val Loss: 0.5587, Train Seq Acc: 0.9959, Val Seq Acc: 0.9126\n"
     ]
    },
    {
     "name": "stderr",
     "output_type": "stream",
     "text": [
      "Epoch 141: 100%|██████████| 397/397 [00:09<00:00, 42.18it/s]\n"
     ]
    },
    {
     "name": "stdout",
     "output_type": "stream",
     "text": [
      "Epoch 141/150, Loss: 0.0084, Val Loss: 0.5340, Train Seq Acc: 0.9991, Val Seq Acc: 0.9164\n"
     ]
    },
    {
     "name": "stderr",
     "output_type": "stream",
     "text": [
      "Epoch 142: 100%|██████████| 397/397 [00:09<00:00, 41.44it/s]\n"
     ]
    },
    {
     "name": "stdout",
     "output_type": "stream",
     "text": [
      "Epoch 142/150, Loss: 0.0031, Val Loss: 0.5091, Train Seq Acc: 0.9994, Val Seq Acc: 0.9275\n"
     ]
    },
    {
     "name": "stderr",
     "output_type": "stream",
     "text": [
      "Epoch 143: 100%|██████████| 397/397 [00:09<00:00, 41.13it/s]\n"
     ]
    },
    {
     "name": "stdout",
     "output_type": "stream",
     "text": [
      "Epoch 143/150, Loss: 0.0099, Val Loss: 14.9236, Train Seq Acc: 0.0561, Val Seq Acc: 0.0546\n"
     ]
    },
    {
     "name": "stderr",
     "output_type": "stream",
     "text": [
      "Epoch 144: 100%|██████████| 397/397 [00:09<00:00, 42.92it/s]\n"
     ]
    },
    {
     "name": "stdout",
     "output_type": "stream",
     "text": [
      "Epoch 144/150, Loss: 0.0299, Val Loss: 0.5885, Train Seq Acc: 0.9920, Val Seq Acc: 0.9079\n"
     ]
    },
    {
     "name": "stderr",
     "output_type": "stream",
     "text": [
      "Epoch 145: 100%|██████████| 397/397 [00:09<00:00, 42.77it/s]\n"
     ]
    },
    {
     "name": "stdout",
     "output_type": "stream",
     "text": [
      "Epoch 145/150, Loss: 0.0188, Val Loss: 0.5195, Train Seq Acc: 0.9976, Val Seq Acc: 0.9139\n"
     ]
    },
    {
     "name": "stderr",
     "output_type": "stream",
     "text": [
      "Epoch 146: 100%|██████████| 397/397 [00:09<00:00, 40.59it/s]\n"
     ]
    },
    {
     "name": "stdout",
     "output_type": "stream",
     "text": [
      "Epoch 146/150, Loss: 0.0136, Val Loss: 0.5538, Train Seq Acc: 0.9939, Val Seq Acc: 0.9114\n"
     ]
    },
    {
     "name": "stderr",
     "output_type": "stream",
     "text": [
      "Epoch 147: 100%|██████████| 397/397 [00:09<00:00, 42.42it/s]\n"
     ]
    },
    {
     "name": "stdout",
     "output_type": "stream",
     "text": [
      "Epoch 147/150, Loss: 0.0221, Val Loss: 0.6159, Train Seq Acc: 0.9909, Val Seq Acc: 0.9076\n"
     ]
    },
    {
     "name": "stderr",
     "output_type": "stream",
     "text": [
      "Epoch 148: 100%|██████████| 397/397 [00:09<00:00, 41.47it/s]\n"
     ]
    },
    {
     "name": "stdout",
     "output_type": "stream",
     "text": [
      "Epoch 148/150, Loss: 0.0211, Val Loss: 0.6568, Train Seq Acc: 0.9852, Val Seq Acc: 0.8988\n"
     ]
    },
    {
     "name": "stderr",
     "output_type": "stream",
     "text": [
      "Epoch 149: 100%|██████████| 397/397 [00:09<00:00, 42.00it/s]\n"
     ]
    },
    {
     "name": "stdout",
     "output_type": "stream",
     "text": [
      "Epoch 149/150, Loss: 0.0200, Val Loss: 0.4903, Train Seq Acc: 0.9968, Val Seq Acc: 0.9190\n"
     ]
    },
    {
     "name": "stderr",
     "output_type": "stream",
     "text": [
      "Epoch 150: 100%|██████████| 397/397 [00:09<00:00, 43.45it/s]\n"
     ]
    },
    {
     "name": "stdout",
     "output_type": "stream",
     "text": [
      "Epoch 150/150, Loss: 0.0065, Val Loss: 0.4711, Train Seq Acc: 0.9994, Val Seq Acc: 0.9259\n",
      "✅ Model saved as cnn_bilstm_ctc_grantha_150.pth\n"
     ]
    },
    {
     "data": {
      "image/png": "[encoded data removed]",
      "text/plain": [
       "<Figure size 1200x600 with 2 Axes>"
      ]
     },
     "metadata": {},
     "output_type": "display_data"
    }
   ],
   "source": [
    "import os\n",
    "import cv2\n",
    "import numpy as np\n",
    "import torch\n",
    "import torch.nn as nn\n",
    "import torch.optim as optim\n",
    "import matplotlib.pyplot as plt\n",
    "from torch.utils.data import DataLoader, Dataset\n",
    "from sklearn.model_selection import train_test_split\n",
    "from torch.nn.functional import log_softmax\n",
    "from tqdm import tqdm\n",
    "\n",
    "# Dataset path\n",
    "base_dir = r\"D:\\PRIYANKA M\\2021-2025\\PH.D\\RESEARCH SCHOLAR\\STUD_PROJ\\2025\\VARUNN  (MINI PROJECT)\\Dataset\\Final_dataset\\Final_dataset\\customized_train\"\n",
    "categories = ['Consonants', 'Numerals', 'mansample-final', 'uyirezhuthukkal']\n",
    "\n",
    "images, labels = [], []\n",
    "label_names = []\n",
    "\n",
    "# 1. Gather all images and assign unique integer labels\n",
    "for category in categories:\n",
    "    category_path = os.path.join(base_dir, category)\n",
    "    for subfolder in os.listdir(category_path):\n",
    "        subfolder_path = os.path.join(category_path, subfolder)\n",
    "        if os.path.isdir(subfolder_path):\n",
    "            if subfolder not in label_names:\n",
    "                label_names.append(subfolder)\n",
    "            label_index = label_names.index(subfolder)\n",
    "            for img_file in os.listdir(subfolder_path):\n",
    "                if img_file.lower().endswith(('.png', '.jpg', '.jpeg')):\n",
    "                    img_path = os.path.join(subfolder_path, img_file)\n",
    "                    img = cv2.imread(img_path, cv2.IMREAD_GRAYSCALE)\n",
    "                    img = cv2.resize(img, (128, 32))  # Resize images to (128, 32)\n",
    "                    images.append(img)\n",
    "                    labels.append([label_index])  # as sequence for CTC\n",
    "\n",
    "# Label dictionary for output interpretation\n",
    "Label_Dict = {name: i for i, name in enumerate(label_names)}\n",
    "idx2char = {i: name for i, name in enumerate(label_names)}\n",
    "\n",
    "# 2. Prepare dataset arrays\n",
    "X = np.array(images).astype(np.float32) / 255.0  # Normalize pixel values\n",
    "print(\"Shape of X before reshaping:\", X.shape)  # Debug the shape\n",
    "\n",
    "# Check the number of dimensions in X\n",
    "if len(X.shape) == 3:\n",
    "    X = X[:, np.newaxis, :, :]  # [N, 1, 32, 128] (add the channel dimension)\n",
    "else:\n",
    "    print(\"Unexpected shape:\", X.shape)\n",
    "\n",
    "print(\"Shape of X after reshaping:\", X.shape)  # Debug the shape after reshaping\n",
    "\n",
    "print(\"Total images collected:\", len(images))\n",
    "print(\"Categories found:\", label_names)\n",
    "\n",
    "# 3. Train/val split\n",
    "from sklearn.model_selection import train_test_split\n",
    "\n",
    "X_train, X_val, Y_train, Y_val = train_test_split(X, labels, test_size=0.2, random_state=42)\n",
    "\n",
    "# 5. Dataset class\n",
    "class CustomDataset(Dataset):\n",
    "    def __init__(self, X, Y):\n",
    "        self.X = X\n",
    "        self.Y = Y\n",
    "\n",
    "    def __len__(self):\n",
    "        return len(self.X)\n",
    "\n",
    "    def __getitem__(self, idx):\n",
    "        return torch.tensor(self.X[idx], dtype=torch.float32), torch.tensor(self.Y[idx], dtype=torch.long)\n",
    "\n",
    "# 6. CNN + BiLSTM + CTC model\n",
    "class CNN_BiLSTM_CTC(nn.Module):\n",
    "    def __init__(self, num_classes):\n",
    "        super(CNN_BiLSTM_CTC, self).__init__()\n",
    "        self.cnn = nn.Sequential(\n",
    "            nn.Conv2d(1, 64, 3, padding=1), nn.BatchNorm2d(64), nn.ReLU(), nn.MaxPool2d((2, 2)),\n",
    "            nn.Conv2d(64, 128, 3, padding=1), nn.BatchNorm2d(128), nn.ReLU(), nn.MaxPool2d((2, 2)),\n",
    "            nn.Conv2d(128, 256, 3, padding=1), nn.BatchNorm2d(256), nn.ReLU(), nn.MaxPool2d((2, 2))\n",
    "        )\n",
    "        self.lstm = nn.LSTM(input_size=1024, hidden_size=512, num_layers=3,\n",
    "                            bidirectional=True, batch_first=True)\n",
    "        self.dropout = nn.Dropout(0.25)\n",
    "        self.fc = nn.Linear(1024, num_classes + 1)\n",
    "\n",
    "    def forward(self, x):\n",
    "        x = self.cnn(x)\n",
    "        x = x.permute(0, 3, 1, 2)\n",
    "        x = x.reshape(x.size(0), x.size(1), -1)\n",
    "        x, _ = self.lstm(x)\n",
    "        x = self.dropout(x)\n",
    "        x = self.fc(x)\n",
    "        x = x.permute(1, 0, 2)\n",
    "        return log_softmax(x, dim=2)\n",
    "\n",
    "# 7. Collate for CTC\n",
    "def ctc_collate(batch):\n",
    "    inputs, targets = zip(*batch)\n",
    "    input_lengths = torch.full(size=(len(inputs),), fill_value=16, dtype=torch.long)\n",
    "    targets_flat = torch.cat(targets)\n",
    "    target_lengths = torch.tensor([len(t) for t in targets], dtype=torch.long)\n",
    "    return torch.stack(inputs), targets_flat, input_lengths, target_lengths\n",
    "\n",
    "# 8. DataLoaders\n",
    "train_loader = DataLoader(CustomDataset(X_train, Y_train), batch_size=32, shuffle=True, collate_fn=ctc_collate)\n",
    "val_loader = DataLoader(CustomDataset(X_val, Y_val), batch_size=32, shuffle=False, collate_fn=ctc_collate)\n",
    "\n",
    "# 9. Model, Loss, Optimizer\n",
    "device = torch.device('cuda' if torch.cuda.is_available() else 'cpu')\n",
    "model = CNN_BiLSTM_CTC(num_classes=len(label_names)).to(device)\n",
    "criterion = nn.CTCLoss(blank=len(label_names))\n",
    "optimizer = optim.Adam(model.parameters(), lr=0.001)\n",
    "\n",
    "# Greedy decoder\n",
    "def greedy_decoder(output):\n",
    "    pred = output.permute(1, 0, 2)\n",
    "    pred = torch.argmax(pred, dim=2)\n",
    "    decoded = []\n",
    "    for p in pred:\n",
    "        seq = []\n",
    "        prev = -1\n",
    "        for char in p:\n",
    "            if char.item() != prev and char.item() != len(label_names):\n",
    "                seq.append(char.item())\n",
    "            prev = char.item()\n",
    "        decoded.append(seq)\n",
    "    return decoded\n",
    "\n",
    "# Accuracy computation\n",
    "def compute_accuracy(preds, targets):\n",
    "    correct_seq = 0\n",
    "    total_seq = len(preds)\n",
    "    correct_chars = 0\n",
    "    total_chars = 0\n",
    "    for pred, true in zip(preds, targets):\n",
    "        if pred == true:\n",
    "            correct_seq += 1\n",
    "        correct_chars += sum(p == t for p, t in zip(pred, true))\n",
    "        total_chars += len(true)\n",
    "    seq_acc = correct_seq / total_seq\n",
    "    char_acc = correct_chars / total_chars if total_chars else 0\n",
    "    return seq_acc, char_acc\n",
    "\n",
    "# 10. Training loop\n",
    "train_losses, val_losses, train_seq_accs, val_seq_accs = [], [], [], []\n",
    "epochs = 150\n",
    "for epoch in range(epochs):\n",
    "    model.train()\n",
    "    total_loss = 0\n",
    "    for inputs, targets, input_lengths, target_lengths in tqdm(train_loader, desc=f\"Epoch {epoch+1}\"):\n",
    "        inputs, targets = inputs.to(device), targets.to(device)\n",
    "        optimizer.zero_grad()\n",
    "        outputs = model(inputs)\n",
    "        loss = criterion(outputs, targets, input_lengths, target_lengths)\n",
    "        loss.backward()\n",
    "        optimizer.step()\n",
    "        total_loss += loss.item()\n",
    "    train_losses.append(total_loss / len(train_loader))\n",
    "\n",
    "    # Training accuracy\n",
    "    model.eval()\n",
    "    all_preds, all_targets = [], []\n",
    "    with torch.no_grad():\n",
    "        for inputs, targets, _, _ in train_loader:\n",
    "            inputs = inputs.to(device)\n",
    "            outputs = model(inputs)\n",
    "            decoded_preds = greedy_decoder(outputs)\n",
    "            batch_targets = [t.tolist() for t in targets.split(1)]\n",
    "            all_preds.extend(decoded_preds)\n",
    "            all_targets.extend(batch_targets)\n",
    "    seq_acc, char_acc = compute_accuracy(all_preds, all_targets)\n",
    "    train_seq_accs.append(seq_acc)\n",
    "\n",
    "    # Validation loss & accuracy\n",
    "    val_loss, val_preds, val_targets = 0, [], []\n",
    "    with torch.no_grad():\n",
    "        for inputs, targets, input_lengths, target_lengths in val_loader:\n",
    "            inputs, targets = inputs.to(device), targets.to(device)\n",
    "            outputs = model(inputs)\n",
    "            val_loss += criterion(outputs, targets, input_lengths, target_lengths).item()\n",
    "            decoded_preds = greedy_decoder(outputs)\n",
    "            batch_targets = [t.tolist() for t in targets.split(1)]\n",
    "            val_preds.extend(decoded_preds)\n",
    "            val_targets.extend(batch_targets)\n",
    "    val_losses.append(val_loss / len(val_loader))\n",
    "    val_seq_acc, val_char_acc = compute_accuracy(val_preds, val_targets)\n",
    "    val_seq_accs.append(val_seq_acc)\n",
    "\n",
    "    print(f\"Epoch {epoch+1}/{epochs}, Loss: {train_losses[-1]:.4f}, Val Loss: {val_losses[-1]:.4f}, Train Seq Acc: {seq_acc:.4f}, Val Seq Acc: {val_seq_acc:.4f}\")\n",
    "\n",
    "# 11. Save model\n",
    "torch.save(model.state_dict(), \"cnn_bilstm_ctc_grantha_150.pth\")\n",
    "print(\"\\u2705 Model saved as cnn_bilstm_ctc_grantha_150.pth\")\n",
    "\n",
    "# 12. Plots\n",
    "plt.figure(figsize=(12, 6))\n",
    "plt.subplot(1, 2, 1)\n",
    "plt.plot(train_losses, label='Train Loss')\n",
    "plt.plot(val_losses, label='Val Loss')\n",
    "plt.title(\"Loss Curve\")\n",
    "plt.xlabel(\"Epoch\")\n",
    "plt.ylabel(\"Loss\")\n",
    "plt.legend()\n",
    "\n",
    "plt.subplot(1, 2, 2)\n",
    "plt.plot(train_seq_accs, label='Train Seq Acc')\n",
    "plt.plot(val_seq_accs, label='Val Seq Acc')\n",
    "plt.title(\"Sequence Accuracy\")\n",
    "plt.xlabel(\"Epoch\")\n",
    "plt.ylabel(\"Accuracy\")\n",
    "plt.legend()\n",
    "plt.tight_layout()\n",
    "plt.show()"
   ]
  },
  {
   "cell_type": "code",
   "execution_count": 11,
   "id": "7468716b",
   "metadata": {},
   "outputs": [
    {
     "name": "stdout",
     "output_type": "stream",
     "text": [
      "Epoch 1/150\n"
     ]
    },
    {
     "name": "stderr",
     "output_type": "stream",
     "text": [
      "Epoch 1: 100%|██████████| 397/397 [00:07<00:00, 53.51it/s]\n"
     ]
    },
    {
     "name": "stdout",
     "output_type": "stream",
     "text": [
      "Epoch 1/150, Loss: 5.5079, Val Loss: 4.9481, Train Seq Acc: 0.0080, Val Seq Acc: 0.0085\n",
      "Epoch 2/150\n"
     ]
    },
    {
     "name": "stderr",
     "output_type": "stream",
     "text": [
      "Epoch 2: 100%|██████████| 397/397 [00:06<00:00, 56.97it/s]\n"
     ]
    },
    {
     "name": "stdout",
     "output_type": "stream",
     "text": [
      "Epoch 2/150, Loss: 4.9451, Val Loss: 4.9454, Train Seq Acc: 0.0110, Val Seq Acc: 0.0132\n",
      "Epoch 3/150\n"
     ]
    },
    {
     "name": "stderr",
     "output_type": "stream",
     "text": [
      "Epoch 3: 100%|██████████| 397/397 [00:07<00:00, 56.46it/s]\n"
     ]
    },
    {
     "name": "stdout",
     "output_type": "stream",
     "text": [
      "Epoch 3/150, Loss: 4.9417, Val Loss: 4.9437, Train Seq Acc: 0.0110, Val Seq Acc: 0.0132\n",
      "Epoch 4/150\n"
     ]
    },
    {
     "name": "stderr",
     "output_type": "stream",
     "text": [
      "Epoch 4: 100%|██████████| 397/397 [00:06<00:00, 60.81it/s]\n"
     ]
    },
    {
     "name": "stdout",
     "output_type": "stream",
     "text": [
      "Epoch 4/150, Loss: 4.9388, Val Loss: 4.9432, Train Seq Acc: 0.0110, Val Seq Acc: 0.0132\n",
      "Epoch 5/150\n"
     ]
    },
    {
     "name": "stderr",
     "output_type": "stream",
     "text": [
      "Epoch 5: 100%|██████████| 397/397 [00:07<00:00, 54.80it/s]\n"
     ]
    },
    {
     "name": "stdout",
     "output_type": "stream",
     "text": [
      "Epoch 5/150, Loss: 4.9384, Val Loss: 4.9436, Train Seq Acc: 0.0110, Val Seq Acc: 0.0132\n",
      "Epoch 6/150\n"
     ]
    },
    {
     "name": "stderr",
     "output_type": "stream",
     "text": [
      "Epoch 6: 100%|██████████| 397/397 [00:06<00:00, 56.91it/s]\n"
     ]
    },
    {
     "name": "stdout",
     "output_type": "stream",
     "text": [
      "Epoch 6/150, Loss: 4.9372, Val Loss: 4.9419, Train Seq Acc: 0.0110, Val Seq Acc: 0.0132\n",
      "Epoch 7/150\n"
     ]
    },
    {
     "name": "stderr",
     "output_type": "stream",
     "text": [
      "Epoch 7: 100%|██████████| 397/397 [00:07<00:00, 54.43it/s]\n"
     ]
    },
    {
     "name": "stdout",
     "output_type": "stream",
     "text": [
      "Epoch 7/150, Loss: 4.9361, Val Loss: 4.9440, Train Seq Acc: 0.0109, Val Seq Acc: 0.0129\n",
      "Epoch 8/150\n"
     ]
    },
    {
     "name": "stderr",
     "output_type": "stream",
     "text": [
      "Epoch 8: 100%|██████████| 397/397 [00:07<00:00, 53.62it/s]\n"
     ]
    },
    {
     "name": "stdout",
     "output_type": "stream",
     "text": [
      "Epoch 8/150, Loss: 4.7433, Val Loss: 4.8337, Train Seq Acc: 0.0170, Val Seq Acc: 0.0151\n",
      "Epoch 9/150\n"
     ]
    },
    {
     "name": "stderr",
     "output_type": "stream",
     "text": [
      "Epoch 9: 100%|██████████| 397/397 [00:07<00:00, 55.16it/s]\n"
     ]
    },
    {
     "name": "stdout",
     "output_type": "stream",
     "text": [
      "Epoch 9/150, Loss: 4.5826, Val Loss: 4.5347, Train Seq Acc: 0.0236, Val Seq Acc: 0.0202\n",
      "Epoch 10/150\n"
     ]
    },
    {
     "name": "stderr",
     "output_type": "stream",
     "text": [
      "Epoch 10: 100%|██████████| 397/397 [00:06<00:00, 56.79it/s]\n"
     ]
    },
    {
     "name": "stdout",
     "output_type": "stream",
     "text": [
      "Epoch 10/150, Loss: 4.5133, Val Loss: 4.5117, Train Seq Acc: 0.0271, Val Seq Acc: 0.0246\n",
      "Epoch 11/150\n"
     ]
    },
    {
     "name": "stderr",
     "output_type": "stream",
     "text": [
      "Epoch 11: 100%|██████████| 397/397 [00:07<00:00, 53.68it/s]\n"
     ]
    },
    {
     "name": "stdout",
     "output_type": "stream",
     "text": [
      "Epoch 11/150, Loss: 4.4124, Val Loss: 5.5191, Train Seq Acc: 0.0185, Val Seq Acc: 0.0145\n",
      "Epoch 12/150\n"
     ]
    },
    {
     "name": "stderr",
     "output_type": "stream",
     "text": [
      "Epoch 12: 100%|██████████| 397/397 [00:07<00:00, 51.97it/s]\n"
     ]
    },
    {
     "name": "stdout",
     "output_type": "stream",
     "text": [
      "Epoch 12/150, Loss: 4.2371, Val Loss: 4.7326, Train Seq Acc: 0.0330, Val Seq Acc: 0.0177\n",
      "Epoch 13/150\n"
     ]
    },
    {
     "name": "stderr",
     "output_type": "stream",
     "text": [
      "Epoch 13: 100%|██████████| 397/397 [00:07<00:00, 53.90it/s]\n"
     ]
    },
    {
     "name": "stdout",
     "output_type": "stream",
     "text": [
      "Epoch 13/150, Loss: 4.0885, Val Loss: 5.5944, Train Seq Acc: 0.0278, Val Seq Acc: 0.0202\n",
      "Epoch 14/150\n"
     ]
    },
    {
     "name": "stderr",
     "output_type": "stream",
     "text": [
      "Epoch 14: 100%|██████████| 397/397 [00:07<00:00, 52.77it/s]\n"
     ]
    },
    {
     "name": "stdout",
     "output_type": "stream",
     "text": [
      "Epoch 14/150, Loss: 4.0107, Val Loss: 5.2011, Train Seq Acc: 0.0393, Val Seq Acc: 0.0306\n",
      "Epoch 15/150\n"
     ]
    },
    {
     "name": "stderr",
     "output_type": "stream",
     "text": [
      "Epoch 15: 100%|██████████| 397/397 [00:07<00:00, 53.67it/s]\n"
     ]
    },
    {
     "name": "stdout",
     "output_type": "stream",
     "text": [
      "Epoch 15/150, Loss: 3.9484, Val Loss: 3.9575, Train Seq Acc: 0.0725, Val Seq Acc: 0.0605\n",
      "Epoch 16/150\n"
     ]
    },
    {
     "name": "stderr",
     "output_type": "stream",
     "text": [
      "Epoch 16: 100%|██████████| 397/397 [00:07<00:00, 53.72it/s]\n"
     ]
    },
    {
     "name": "stdout",
     "output_type": "stream",
     "text": [
      "Epoch 16/150, Loss: 3.8881, Val Loss: 5.3653, Train Seq Acc: 0.0424, Val Seq Acc: 0.0325\n",
      "Epoch 17/150\n"
     ]
    },
    {
     "name": "stderr",
     "output_type": "stream",
     "text": [
      "Epoch 17: 100%|██████████| 397/397 [00:07<00:00, 54.76it/s]\n"
     ]
    },
    {
     "name": "stdout",
     "output_type": "stream",
     "text": [
      "Epoch 17/150, Loss: 3.8525, Val Loss: 5.4430, Train Seq Acc: 0.0427, Val Seq Acc: 0.0375\n",
      "Epoch 18/150\n"
     ]
    },
    {
     "name": "stderr",
     "output_type": "stream",
     "text": [
      "Epoch 18: 100%|██████████| 397/397 [00:07<00:00, 54.83it/s]\n"
     ]
    },
    {
     "name": "stdout",
     "output_type": "stream",
     "text": [
      "Epoch 18/150, Loss: 3.8164, Val Loss: 5.8836, Train Seq Acc: 0.0383, Val Seq Acc: 0.0309\n",
      "Epoch 19/150\n"
     ]
    },
    {
     "name": "stderr",
     "output_type": "stream",
     "text": [
      "Epoch 19: 100%|██████████| 397/397 [00:07<00:00, 53.72it/s]\n"
     ]
    },
    {
     "name": "stdout",
     "output_type": "stream",
     "text": [
      "Epoch 19/150, Loss: 3.7820, Val Loss: 6.0594, Train Seq Acc: 0.0427, Val Seq Acc: 0.0296\n",
      "Epoch 20/150\n"
     ]
    },
    {
     "name": "stderr",
     "output_type": "stream",
     "text": [
      "Epoch 20: 100%|██████████| 397/397 [00:07<00:00, 55.35it/s]\n"
     ]
    },
    {
     "name": "stdout",
     "output_type": "stream",
     "text": [
      "Epoch 20/150, Loss: 3.7389, Val Loss: 5.5808, Train Seq Acc: 0.0539, Val Seq Acc: 0.0467\n",
      "Early stopping at epoch 20 due to no improvement in validation loss.\n",
      "\n",
      " Overall Sequence Accuracy: 0.0503\n",
      "✅ Model saved as cnn_lstm_ctc_grantha_es.pth\n"
     ]
    },
    {
     "data": {
      "image/png": "[encoded data removed]",
      "text/plain": [
       "<Figure size 1200x600 with 2 Axes>"
      ]
     },
     "metadata": {},
     "output_type": "display_data"
    }
   ],
   "source": [
    "#This is for LSTM updated\n",
    "\n",
    "import os\n",
    "import cv2\n",
    "import numpy as np\n",
    "import torch\n",
    "import torch.nn as nn\n",
    "import torch.optim as optim\n",
    "import matplotlib.pyplot as plt\n",
    "from torch.utils.data import DataLoader, Dataset\n",
    "from sklearn.model_selection import train_test_split\n",
    "from torch.nn.functional import log_softmax\n",
    "from tqdm import tqdm\n",
    "\n",
    "# Dataset path\n",
    "base_dir = r\"D:\\PRIYANKA M\\2021-2025\\PH.D\\RESEARCH SCHOLAR\\STUD_PROJ\\2025\\VARUNN  (MINI PROJECT)\\Dataset\\Final_dataset\\Final_dataset\\customized_train\"\n",
    "categories = ['Consonants', 'Numerals', 'mansample-final', 'uyirezhuthukkal']\n",
    "\n",
    "images, labels = [], []\n",
    "label_names = []\n",
    "\n",
    "# 1. Gather all images and assign unique integer labels\n",
    "for category in categories:\n",
    "    category_path = os.path.join(base_dir, category)\n",
    "    for subfolder in os.listdir(category_path):\n",
    "        subfolder_path = os.path.join(category_path, subfolder)\n",
    "        if os.path.isdir(subfolder_path):\n",
    "            if subfolder not in label_names:\n",
    "                label_names.append(subfolder)\n",
    "            label_index = label_names.index(subfolder)\n",
    "            for img_file in os.listdir(subfolder_path):\n",
    "                if img_file.lower().endswith(('.png', '.jpg', '.jpeg')):\n",
    "                    img_path = os.path.join(subfolder_path, img_file)\n",
    "                    img = cv2.imread(img_path, cv2.IMREAD_GRAYSCALE)\n",
    "                    img = cv2.resize(img, (128, 32))\n",
    "                    images.append(img)\n",
    "                    labels.append([label_index])\n",
    "\n",
    "Label_Dict = {name: i for i, name in enumerate(label_names)}\n",
    "idx2char = {i: name for i, name in enumerate(label_names)}\n",
    "\n",
    "X = np.array(images).astype(np.float32) / 255.0\n",
    "if len(X.shape) == 3:\n",
    "    X = X[:, np.newaxis, :, :]\n",
    "\n",
    "X_train, X_val, Y_train, Y_val = train_test_split(X, labels, test_size=0.2, random_state=42)\n",
    "\n",
    "class CustomDataset(Dataset):\n",
    "    def __init__(self, X, Y):\n",
    "        self.X = X\n",
    "        self.Y = Y\n",
    "\n",
    "    def __len__(self):\n",
    "        return len(self.X)\n",
    "\n",
    "    def __getitem__(self, idx):\n",
    "        return torch.tensor(self.X[idx], dtype=torch.float32), torch.tensor(self.Y[idx], dtype=torch.long)\n",
    "\n",
    "# 6. CNN + LSTM + CTC model (Unidirectional)\n",
    "class CNN_LSTM_CTC(nn.Module):\n",
    "    def __init__(self, num_classes):\n",
    "        super(CNN_LSTM_CTC, self).__init__()\n",
    "        self.cnn = nn.Sequential(\n",
    "            nn.Conv2d(1, 64, 3, padding=1), nn.BatchNorm2d(64), nn.ReLU(), nn.MaxPool2d((2, 2)),\n",
    "            nn.Conv2d(64, 128, 3, padding=1), nn.BatchNorm2d(128), nn.ReLU(), nn.MaxPool2d((2, 2)),\n",
    "            nn.Conv2d(128, 256, 3, padding=1), nn.BatchNorm2d(256), nn.ReLU(), nn.MaxPool2d((2, 2))\n",
    "        )\n",
    "        self.lstm = nn.LSTM(input_size=1024, hidden_size=512, num_layers=3,\n",
    "                            bidirectional=False, batch_first=True)\n",
    "        self.dropout = nn.Dropout(0.25)\n",
    "        self.fc = nn.Linear(512, num_classes + 1)\n",
    "\n",
    "    def forward(self, x):\n",
    "        x = self.cnn(x)\n",
    "        x = x.permute(0, 3, 1, 2)\n",
    "        x = x.reshape(x.size(0), x.size(1), -1)\n",
    "        x, _ = self.lstm(x)\n",
    "        x = self.dropout(x)\n",
    "        x = self.fc(x)\n",
    "        x = x.permute(1, 0, 2)\n",
    "        return log_softmax(x, dim=2)\n",
    "\n",
    "def ctc_collate(batch):\n",
    "    inputs, targets = zip(*batch)\n",
    "    input_lengths = torch.full(size=(len(inputs),), fill_value=16, dtype=torch.long)\n",
    "    targets_flat = torch.cat(targets)\n",
    "    target_lengths = torch.tensor([len(t) for t in targets], dtype=torch.long)\n",
    "    return torch.stack(inputs), targets_flat, input_lengths, target_lengths\n",
    "\n",
    "train_loader = DataLoader(CustomDataset(X_train, Y_train), batch_size=32, shuffle=True, collate_fn=ctc_collate)\n",
    "val_loader = DataLoader(CustomDataset(X_val, Y_val), batch_size=32, shuffle=False, collate_fn=ctc_collate)\n",
    "\n",
    "device = torch.device('cuda' if torch.cuda.is_available() else 'cpu')\n",
    "model = CNN_LSTM_CTC(num_classes=len(label_names)).to(device)\n",
    "criterion = nn.CTCLoss(blank=len(label_names))\n",
    "optimizer = optim.Adam(model.parameters(), lr=0.001)\n",
    "\n",
    "def greedy_decoder(output):\n",
    "    pred = output.permute(1, 0, 2)\n",
    "    pred = torch.argmax(pred, dim=2)\n",
    "    decoded = []\n",
    "    for p in pred:\n",
    "        seq = []\n",
    "        prev = -1\n",
    "        for char in p:\n",
    "            if char.item() != prev and char.item() != len(label_names):\n",
    "                seq.append(char.item())\n",
    "            prev = char.item()\n",
    "        decoded.append(seq)\n",
    "    return decoded\n",
    "\n",
    "def compute_accuracy(preds, targets):\n",
    "    correct_seq = 0\n",
    "    total_seq = len(preds)\n",
    "    correct_chars = 0\n",
    "    total_chars = 0\n",
    "    for pred, true in zip(preds, targets):\n",
    "        if pred == true:\n",
    "            correct_seq += 1\n",
    "        correct_chars += sum(p == t for p, t in zip(pred, true))\n",
    "        total_chars += len(true)\n",
    "    seq_acc = correct_seq / total_seq\n",
    "    char_acc = correct_chars / total_chars if total_chars else 0\n",
    "    return seq_acc, char_acc\n",
    "\n",
    "train_losses, val_losses, train_seq_accs, val_seq_accs = [], [], [], []\n",
    "epochs = 150\n",
    "best_val_loss = float('inf')  # Initialize the best validation loss to infinity\n",
    "patience_counter = 0          # Initialize patience counter to zero\n",
    "patience = 5                 # Set patience value, e.g., 10 epochs without improvement\n",
    "for epoch in range(epochs):\n",
    "    model.train()\n",
    "    total_loss = 0\n",
    "    print(f\"Epoch {epoch+1}/{epochs}\")  # This will print the current epoch number\n",
    "\n",
    "    for inputs, targets, input_lengths, target_lengths in tqdm(train_loader, desc=f\"Epoch {epoch+1}\"):\n",
    "        inputs, targets = inputs.to(device), targets.to(device)\n",
    "        optimizer.zero_grad()\n",
    "        outputs = model(inputs)\n",
    "        loss = criterion(outputs, targets, input_lengths, target_lengths)\n",
    "        loss.backward()\n",
    "        optimizer.step()\n",
    "        total_loss += loss.item()\n",
    "\n",
    "    train_losses.append(total_loss / len(train_loader))\n",
    "\n",
    "    # Evaluation and accuracy computation...\n",
    "    # Continue with the rest of your training loop\n",
    "\n",
    "    model.eval()\n",
    "    all_preds, all_targets = [], []\n",
    "    with torch.no_grad():\n",
    "        for inputs, targets, _, _ in train_loader:\n",
    "            inputs = inputs.to(device)\n",
    "            outputs = model(inputs)\n",
    "            decoded_preds = greedy_decoder(outputs)\n",
    "            batch_targets = [t.tolist() for t in targets.split(1)]\n",
    "            all_preds.extend(decoded_preds)\n",
    "            all_targets.extend(batch_targets)\n",
    "    seq_acc, char_acc = compute_accuracy(all_preds, all_targets)\n",
    "    train_seq_accs.append(seq_acc)\n",
    "\n",
    "    val_loss, val_preds, val_targets = 0, [], []\n",
    "    with torch.no_grad():\n",
    "        for inputs, targets, input_lengths, target_lengths in val_loader:\n",
    "            inputs, targets = inputs.to(device), targets.to(device)\n",
    "            outputs = model(inputs)\n",
    "            val_loss += criterion(outputs, targets, input_lengths, target_lengths).item()\n",
    "            decoded_preds = greedy_decoder(outputs)\n",
    "            batch_targets = [t.tolist() for t in targets.split(1)]\n",
    "            val_preds.extend(decoded_preds)\n",
    "            val_targets.extend(batch_targets)\n",
    "    val_losses.append(val_loss / len(val_loader))\n",
    "    val_seq_acc, val_char_acc = compute_accuracy(val_preds, val_targets)\n",
    "    val_seq_accs.append(val_seq_acc)\n",
    "\n",
    "    print(f\"Epoch {epoch+1}/{epochs}, Loss: {train_losses[-1]:.4f}, Val Loss: {val_losses[-1]:.4f}, Train Seq Acc: {seq_acc:.4f}, Val Seq Acc: {val_seq_acc:.4f}\")\n",
    "        # Early Stopping check\n",
    "    if val_losses[-1] < best_val_loss:\n",
    "        best_val_loss = val_losses[-1]\n",
    "        best_model_state_dict = model.state_dict()  # Save the best model\n",
    "        patience_counter = 0  # Reset patience counter\n",
    "    else:\n",
    "        patience_counter += 1\n",
    "\n",
    "    if patience_counter >= patience:\n",
    "        print(f\"Early stopping at epoch {epoch+1} due to no improvement in validation loss.\")\n",
    "        break\n",
    "\n",
    "overall_accuracy = (train_seq_accs[-1] + val_seq_accs[-1]) / 2\n",
    "print(f\"\\n Overall Sequence Accuracy: {overall_accuracy:.4f}\")\n",
    "\n",
    "\n",
    "torch.save(best_model_state_dict, \"cnn_lstm_ctc_grantha_es.pth\")\n",
    "print(\"\\u2705 Model saved as cnn_lstm_ctc_grantha_es.pth\")\n",
    "\n",
    "plt.figure(figsize=(12, 6))\n",
    "plt.subplot(1, 2, 1)\n",
    "plt.plot(train_losses, label='Train Loss')\n",
    "plt.plot(val_losses, label='Val Loss')\n",
    "plt.title(\"Loss Curve\")\n",
    "plt.xlabel(\"Epoch\")\n",
    "plt.ylabel(\"Loss\")\n",
    "plt.legend()\n",
    "\n",
    "plt.subplot(1, 2, 2)\n",
    "plt.plot(train_seq_accs, label='Train Seq Acc')\n",
    "plt.plot(val_seq_accs, label='Val Seq Acc')\n",
    "plt.title(\"Sequence Accuracy\")\n",
    "plt.xlabel(\"Epoch\")\n",
    "plt.ylabel(\"Accuracy\")\n",
    "plt.legend()\n",
    "plt.tight_layout()\n",
    "plt.show()"
   ]
  },
  {
   "cell_type": "code",
   "execution_count": 9,
   "id": "f351b17f",
   "metadata": {},
   "outputs": [
    {
     "name": "stdout",
     "output_type": "stream",
     "text": [
      "Shape of X before reshaping: (15855, 32, 128)\n",
      "Shape of X after reshaping: (15855, 1, 32, 128)\n",
      "Total images collected: 15855\n",
      "Categories found: ['01_ka', '02_kha', '03_ga', '04_gha', '05_na(01)', '06_ca', '07_cha', '08_ja', '09_jha', '10_na(02)', '11_ta(01)', '12_tha(01)', '13_da(01)', '14_dha(01)', '15_na(03)', '16_ta(02)', '17_tha(02)', '18_da(02)', '19_dha(02)', '20_na(04)', '21_pa', '22_pha', '23_ba', '24_bha', '25_ma', '26_ya', '27_ra', '28_la(01)', '29_va', '31_sa(01)', '32_sa(02)', '33_sa(03)', '34_ha', '0', '1', '2', '3', '4', '5', '6', '7', '8', '9', 'bau', 'bhaa', 'chcha', 'ddha', 'dhaa', 'dhae', 'dhva', 'dhvaa', 'dhya', 'gaa', 'gee', 'hma', 'jaa', 'jna', 'jya', 'kaa', 'khi', 'koo', 'ksha', 'ktha', 'kthi', 'lau', 'li', 'maa', 'mu', 'n', 'naa (3)', 'nau (3)', 'nca', 'nda', 'nda(1)', 'nea', 'nee', 'nga', 'ni', 'nja', 'nna', 'Nni', 'ntha', 'ntha(1)', 'nthe', 'nthi', 'nthva', 'nu', 'paa', 'pi', 'raa', 'rthu', 'ruu', 'rva', 'rya', 'saa', 'shcha', 'shhaa', 'shhta', 'shhtaa', 'shhya', 'shi', 'shii', 'shra', 'shu', 'shuu', 'soo', 'sri', 'ssa', 'stha', 'sthra', 'su', 'sya', 'tea', 'th', 'tham', 'thi', 'thra', 'thraa', 'thri', 'thu', 'thva', 'ti', 'ttha', 'vaa', 'vi', 'yya', 'vowels (1)', 'vowels (10)', 'vowels (11)', 'vowels (12)', 'vowels (13)', 'vowels (14)', 'vowels (2)', 'vowels (3)', 'vowels (4)', 'vowels (5)', 'vowels (6)', 'vowels (7)', 'vowels (8)', 'vowels (9)']\n"
     ]
    },
    {
     "name": "stderr",
     "output_type": "stream",
     "text": [
      "Epoch 1: 100%|██████████| 397/397 [00:08<00:00, 44.15it/s]\n"
     ]
    },
    {
     "name": "stdout",
     "output_type": "stream",
     "text": [
      "Epoch 1/150, Loss: 5.5300, Val Loss: 4.9519, Train Seq Acc: 0.0091, Val Seq Acc: 0.0069, Train Accuracy: 0.0091, Val Accuracy: 0.0069\n"
     ]
    },
    {
     "name": "stderr",
     "output_type": "stream",
     "text": [
      "Epoch 2: 100%|██████████| 397/397 [00:09<00:00, 40.66it/s]\n"
     ]
    },
    {
     "name": "stdout",
     "output_type": "stream",
     "text": [
      "Epoch 2/150, Loss: 4.9455, Val Loss: 4.9458, Train Seq Acc: 0.0110, Val Seq Acc: 0.0132, Train Accuracy: 0.0110, Val Accuracy: 0.0132\n"
     ]
    },
    {
     "name": "stderr",
     "output_type": "stream",
     "text": [
      "Epoch 3: 100%|██████████| 397/397 [00:09<00:00, 42.90it/s]\n"
     ]
    },
    {
     "name": "stdout",
     "output_type": "stream",
     "text": [
      "Epoch 3/150, Loss: 4.8832, Val Loss: 4.5996, Train Seq Acc: 0.0194, Val Seq Acc: 0.0192, Train Accuracy: 0.0194, Val Accuracy: 0.0192\n"
     ]
    },
    {
     "name": "stderr",
     "output_type": "stream",
     "text": [
      "Epoch 4: 100%|██████████| 397/397 [00:09<00:00, 41.39it/s]\n"
     ]
    },
    {
     "name": "stdout",
     "output_type": "stream",
     "text": [
      "Epoch 4/150, Loss: 4.3469, Val Loss: 4.2718, Train Seq Acc: 0.0309, Val Seq Acc: 0.0306, Train Accuracy: 0.0309, Val Accuracy: 0.0306\n"
     ]
    },
    {
     "name": "stderr",
     "output_type": "stream",
     "text": [
      "Epoch 5: 100%|██████████| 397/397 [00:10<00:00, 39.46it/s]\n"
     ]
    },
    {
     "name": "stdout",
     "output_type": "stream",
     "text": [
      "Epoch 5/150, Loss: 4.1241, Val Loss: 4.4471, Train Seq Acc: 0.0328, Val Seq Acc: 0.0274, Train Accuracy: 0.0328, Val Accuracy: 0.0274\n"
     ]
    },
    {
     "name": "stderr",
     "output_type": "stream",
     "text": [
      "Epoch 6: 100%|██████████| 397/397 [00:09<00:00, 41.88it/s]\n"
     ]
    },
    {
     "name": "stdout",
     "output_type": "stream",
     "text": [
      "Epoch 6/150, Loss: 3.8470, Val Loss: 3.7414, Train Seq Acc: 0.0981, Val Seq Acc: 0.0842, Train Accuracy: 0.0981, Val Accuracy: 0.0842\n"
     ]
    },
    {
     "name": "stderr",
     "output_type": "stream",
     "text": [
      "Epoch 7: 100%|██████████| 397/397 [00:09<00:00, 40.57it/s]\n"
     ]
    },
    {
     "name": "stdout",
     "output_type": "stream",
     "text": [
      "Epoch 7/150, Loss: 3.2780, Val Loss: 2.8510, Train Seq Acc: 0.2647, Val Seq Acc: 0.2507, Train Accuracy: 0.2647, Val Accuracy: 0.2507\n"
     ]
    },
    {
     "name": "stderr",
     "output_type": "stream",
     "text": [
      "Epoch 8: 100%|██████████| 397/397 [00:09<00:00, 42.49it/s]\n"
     ]
    },
    {
     "name": "stdout",
     "output_type": "stream",
     "text": [
      "Epoch 8/150, Loss: 2.3188, Val Loss: 2.0715, Train Seq Acc: 0.4555, Val Seq Acc: 0.4406, Train Accuracy: 0.4555, Val Accuracy: 0.4406\n"
     ]
    },
    {
     "name": "stderr",
     "output_type": "stream",
     "text": [
      "Epoch 9: 100%|██████████| 397/397 [00:09<00:00, 42.12it/s]\n"
     ]
    },
    {
     "name": "stdout",
     "output_type": "stream",
     "text": [
      "Epoch 9/150, Loss: 1.4489, Val Loss: 1.2149, Train Seq Acc: 0.7166, Val Seq Acc: 0.6613, Train Accuracy: 0.7166, Val Accuracy: 0.6613\n"
     ]
    },
    {
     "name": "stderr",
     "output_type": "stream",
     "text": [
      "Epoch 10: 100%|██████████| 397/397 [00:09<00:00, 39.82it/s]\n"
     ]
    },
    {
     "name": "stdout",
     "output_type": "stream",
     "text": [
      "Epoch 10/150, Loss: 0.8993, Val Loss: 3.7019, Train Seq Acc: 0.2603, Val Seq Acc: 0.2368, Train Accuracy: 0.2603, Val Accuracy: 0.2368\n"
     ]
    },
    {
     "name": "stderr",
     "output_type": "stream",
     "text": [
      "Epoch 11: 100%|██████████| 397/397 [00:09<00:00, 41.37it/s]\n"
     ]
    },
    {
     "name": "stdout",
     "output_type": "stream",
     "text": [
      "Epoch 11/150, Loss: 0.5729, Val Loss: 0.6295, Train Seq Acc: 0.8999, Val Seq Acc: 0.8247, Train Accuracy: 0.8999, Val Accuracy: 0.8247\n"
     ]
    },
    {
     "name": "stderr",
     "output_type": "stream",
     "text": [
      "Epoch 12: 100%|██████████| 397/397 [00:09<00:00, 41.83it/s]\n"
     ]
    },
    {
     "name": "stdout",
     "output_type": "stream",
     "text": [
      "Epoch 12/150, Loss: 0.3916, Val Loss: 1.2829, Train Seq Acc: 0.7259, Val Seq Acc: 0.6582, Train Accuracy: 0.7259, Val Accuracy: 0.6582\n"
     ]
    },
    {
     "name": "stderr",
     "output_type": "stream",
     "text": [
      "Epoch 13: 100%|██████████| 397/397 [00:09<00:00, 41.36it/s]\n"
     ]
    },
    {
     "name": "stdout",
     "output_type": "stream",
     "text": [
      "Epoch 13/150, Loss: 0.2705, Val Loss: 0.6776, Train Seq Acc: 0.8798, Val Seq Acc: 0.8042, Train Accuracy: 0.8798, Val Accuracy: 0.8042\n"
     ]
    },
    {
     "name": "stderr",
     "output_type": "stream",
     "text": [
      "Epoch 14: 100%|██████████| 397/397 [00:09<00:00, 39.83it/s]\n"
     ]
    },
    {
     "name": "stdout",
     "output_type": "stream",
     "text": [
      "Epoch 14/150, Loss: 0.2235, Val Loss: 0.5806, Train Seq Acc: 0.9253, Val Seq Acc: 0.8348, Train Accuracy: 0.9253, Val Accuracy: 0.8348\n"
     ]
    },
    {
     "name": "stderr",
     "output_type": "stream",
     "text": [
      "Epoch 15: 100%|██████████| 397/397 [00:09<00:00, 40.64it/s]\n"
     ]
    },
    {
     "name": "stdout",
     "output_type": "stream",
     "text": [
      "Epoch 15/150, Loss: 0.1604, Val Loss: 0.4353, Train Seq Acc: 0.9674, Val Seq Acc: 0.8757, Train Accuracy: 0.9674, Val Accuracy: 0.8757\n"
     ]
    },
    {
     "name": "stderr",
     "output_type": "stream",
     "text": [
      "Epoch 16: 100%|██████████| 397/397 [00:09<00:00, 40.88it/s]\n"
     ]
    },
    {
     "name": "stdout",
     "output_type": "stream",
     "text": [
      "Epoch 16/150, Loss: 0.1250, Val Loss: 0.4652, Train Seq Acc: 0.9572, Val Seq Acc: 0.8669, Train Accuracy: 0.9572, Val Accuracy: 0.8669\n"
     ]
    },
    {
     "name": "stderr",
     "output_type": "stream",
     "text": [
      "Epoch 17: 100%|██████████| 397/397 [00:09<00:00, 40.10it/s]\n"
     ]
    },
    {
     "name": "stdout",
     "output_type": "stream",
     "text": [
      "Epoch 17/150, Loss: 0.1032, Val Loss: 0.6489, Train Seq Acc: 0.9142, Val Seq Acc: 0.8209, Train Accuracy: 0.9142, Val Accuracy: 0.8209\n"
     ]
    },
    {
     "name": "stderr",
     "output_type": "stream",
     "text": [
      "Epoch 18: 100%|██████████| 397/397 [00:09<00:00, 41.77it/s]\n"
     ]
    },
    {
     "name": "stdout",
     "output_type": "stream",
     "text": [
      "Epoch 18/150, Loss: 0.1032, Val Loss: 0.5563, Train Seq Acc: 0.9342, Val Seq Acc: 0.8489, Train Accuracy: 0.9342, Val Accuracy: 0.8489\n"
     ]
    },
    {
     "name": "stderr",
     "output_type": "stream",
     "text": [
      "Epoch 19: 100%|██████████| 397/397 [00:09<00:00, 41.20it/s]\n"
     ]
    },
    {
     "name": "stdout",
     "output_type": "stream",
     "text": [
      "Epoch 19/150, Loss: 0.1231, Val Loss: 0.4389, Train Seq Acc: 0.9781, Val Seq Acc: 0.8903, Train Accuracy: 0.9781, Val Accuracy: 0.8903\n"
     ]
    },
    {
     "name": "stderr",
     "output_type": "stream",
     "text": [
      "Epoch 20: 100%|██████████| 397/397 [00:10<00:00, 39.68it/s]\n"
     ]
    },
    {
     "name": "stdout",
     "output_type": "stream",
     "text": [
      "Epoch 20/150, Loss: 0.0843, Val Loss: 0.3889, Train Seq Acc: 0.9894, Val Seq Acc: 0.9032, Train Accuracy: 0.9894, Val Accuracy: 0.9032\n"
     ]
    },
    {
     "name": "stderr",
     "output_type": "stream",
     "text": [
      "Epoch 21: 100%|██████████| 397/397 [00:09<00:00, 40.85it/s]\n"
     ]
    },
    {
     "name": "stdout",
     "output_type": "stream",
     "text": [
      "Epoch 21/150, Loss: 0.0636, Val Loss: 0.3941, Train Seq Acc: 0.9847, Val Seq Acc: 0.9007, Train Accuracy: 0.9847, Val Accuracy: 0.9007\n"
     ]
    },
    {
     "name": "stderr",
     "output_type": "stream",
     "text": [
      "Epoch 22: 100%|██████████| 397/397 [00:09<00:00, 40.29it/s]\n"
     ]
    },
    {
     "name": "stdout",
     "output_type": "stream",
     "text": [
      "Epoch 22/150, Loss: 0.0733, Val Loss: 0.4530, Train Seq Acc: 0.9775, Val Seq Acc: 0.8940, Train Accuracy: 0.9775, Val Accuracy: 0.8940\n"
     ]
    },
    {
     "name": "stderr",
     "output_type": "stream",
     "text": [
      "Epoch 23: 100%|██████████| 397/397 [00:09<00:00, 41.15it/s]\n"
     ]
    },
    {
     "name": "stdout",
     "output_type": "stream",
     "text": [
      "Epoch 23/150, Loss: 0.0745, Val Loss: 0.5398, Train Seq Acc: 0.9684, Val Seq Acc: 0.8742, Train Accuracy: 0.9684, Val Accuracy: 0.8742\n"
     ]
    },
    {
     "name": "stderr",
     "output_type": "stream",
     "text": [
      "Epoch 24: 100%|██████████| 397/397 [00:10<00:00, 39.43it/s]\n"
     ]
    },
    {
     "name": "stdout",
     "output_type": "stream",
     "text": [
      "Epoch 24/150, Loss: 0.0617, Val Loss: 0.4404, Train Seq Acc: 0.9819, Val Seq Acc: 0.8940, Train Accuracy: 0.9819, Val Accuracy: 0.8940\n"
     ]
    },
    {
     "name": "stderr",
     "output_type": "stream",
     "text": [
      "Epoch 25: 100%|██████████| 397/397 [00:09<00:00, 41.73it/s]\n"
     ]
    },
    {
     "name": "stdout",
     "output_type": "stream",
     "text": [
      "Epoch 25/150, Loss: 0.0694, Val Loss: 0.4243, Train Seq Acc: 0.9822, Val Seq Acc: 0.8890, Train Accuracy: 0.9822, Val Accuracy: 0.8890\n",
      "Early stopping triggered at epoch 25\n"
     ]
    },
    {
     "data": {
      "image/png": "[encoded data removed]",
      "text/plain": [
       "<Figure size 1200x800 with 3 Axes>"
      ]
     },
     "metadata": {},
     "output_type": "display_data"
    }
   ],
   "source": [
    "import os\n",
    "import cv2\n",
    "import numpy as np\n",
    "import torch\n",
    "import torch.nn as nn\n",
    "import torch.optim as optim\n",
    "import matplotlib.pyplot as plt\n",
    "from torch.utils.data import DataLoader, Dataset\n",
    "from sklearn.model_selection import train_test_split\n",
    "from torch.nn.functional import log_softmax\n",
    "from tqdm import tqdm\n",
    "\n",
    "# Dataset path\n",
    "base_dir = r\"D:\\PRIYANKA M\\2021-2025\\PH.D\\RESEARCH SCHOLAR\\STUD_PROJ\\2025\\VARUNN  (MINI PROJECT)\\Dataset\\Final_dataset\\Final_dataset\\customized_train\"\n",
    "categories = ['Consonants', 'Numerals', 'mansample-final', 'uyirezhuthukkal']\n",
    "\n",
    "images, labels = [], []\n",
    "label_names = []\n",
    "\n",
    "# 1. Gather all images and assign unique integer labels\n",
    "for category in categories:\n",
    "    category_path = os.path.join(base_dir, category)\n",
    "    for subfolder in os.listdir(category_path):\n",
    "        subfolder_path = os.path.join(category_path, subfolder)\n",
    "        if os.path.isdir(subfolder_path):\n",
    "            if subfolder not in label_names:\n",
    "                label_names.append(subfolder)\n",
    "            label_index = label_names.index(subfolder)\n",
    "            for img_file in os.listdir(subfolder_path):\n",
    "                if img_file.lower().endswith(('.png', '.jpg', '.jpeg')):\n",
    "                    img_path = os.path.join(subfolder_path, img_file)\n",
    "                    img = cv2.imread(img_path, cv2.IMREAD_GRAYSCALE)\n",
    "                    img = cv2.resize(img, (128, 32))  # Resize images to (128, 32)\n",
    "                    images.append(img)\n",
    "                    labels.append([label_index])  # as sequence for CTC\n",
    "\n",
    "# Label dictionary for output interpretation\n",
    "Label_Dict = {name: i for i, name in enumerate(label_names)}\n",
    "idx2char = {i: name for i, name in enumerate(label_names)}\n",
    "\n",
    "# 2. Prepare dataset arrays\n",
    "X = np.array(images).astype(np.float32) / 255.0  # Normalize pixel values\n",
    "print(\"Shape of X before reshaping:\", X.shape)  # Debug the shape\n",
    "\n",
    "# Check the number of dimensions in X\n",
    "if len(X.shape) == 3:\n",
    "    X = X[:, np.newaxis, :, :]  # [N, 1, 32, 128] (add the channel dimension)\n",
    "else:\n",
    "    print(\"Unexpected shape:\", X.shape)\n",
    "\n",
    "print(\"Shape of X after reshaping:\", X.shape)  # Debug the shape after reshaping\n",
    "\n",
    "print(\"Total images collected:\", len(images))\n",
    "print(\"Categories found:\", label_names)\n",
    "\n",
    "# 3. Train/val split\n",
    "from sklearn.model_selection import train_test_split\n",
    "\n",
    "X_train, X_val, Y_train, Y_val = train_test_split(X, labels, test_size=0.2, random_state=42)\n",
    "\n",
    "# 5. Dataset class\n",
    "class CustomDataset(Dataset):\n",
    "    def __init__(self, X, Y):\n",
    "        self.X = X\n",
    "        self.Y = Y\n",
    "\n",
    "    def __len__(self):\n",
    "        return len(self.X)\n",
    "\n",
    "    def __getitem__(self, idx):\n",
    "        return torch.tensor(self.X[idx], dtype=torch.float32), torch.tensor(self.Y[idx], dtype=torch.long)\n",
    "\n",
    "# 6. CNN + BiLSTM + CTC model\n",
    "class CNN_BiLSTM_CTC(nn.Module):\n",
    "    def __init__(self, num_classes):\n",
    "        super(CNN_BiLSTM_CTC, self).__init__()\n",
    "        self.cnn = nn.Sequential(\n",
    "            nn.Conv2d(1, 64, 3, padding=1), nn.BatchNorm2d(64), nn.ReLU(), nn.MaxPool2d((2, 2)),\n",
    "            nn.Conv2d(64, 128, 3, padding=1), nn.BatchNorm2d(128), nn.ReLU(), nn.MaxPool2d((2, 2)),\n",
    "            nn.Conv2d(128, 256, 3, padding=1), nn.BatchNorm2d(256), nn.ReLU(), nn.MaxPool2d((2, 2))\n",
    "        )\n",
    "        self.lstm = nn.LSTM(input_size=1024, hidden_size=512, num_layers=3,\n",
    "                            bidirectional=True, batch_first=True)\n",
    "        self.dropout = nn.Dropout(0.25)\n",
    "        self.fc = nn.Linear(1024, num_classes + 1)\n",
    "\n",
    "    def forward(self, x):\n",
    "        x = self.cnn(x)\n",
    "        x = x.permute(0, 3, 1, 2)\n",
    "        x = x.reshape(x.size(0), x.size(1), -1)\n",
    "        x, _ = self.lstm(x)\n",
    "        x = self.dropout(x)\n",
    "        x = self.fc(x)\n",
    "        x = x.permute(1, 0, 2)\n",
    "        return log_softmax(x, dim=2)\n",
    "\n",
    "# 7. Collate for CTC\n",
    "def ctc_collate(batch):\n",
    "    inputs, targets = zip(*batch)\n",
    "    input_lengths = torch.full(size=(len(inputs),), fill_value=16, dtype=torch.long)\n",
    "    targets_flat = torch.cat(targets)\n",
    "    target_lengths = torch.tensor([len(t) for t in targets], dtype=torch.long)\n",
    "    return torch.stack(inputs), targets_flat, input_lengths, target_lengths\n",
    "\n",
    "# 8. DataLoaders\n",
    "train_loader = DataLoader(CustomDataset(X_train, Y_train), batch_size=32, shuffle=True, collate_fn=ctc_collate)\n",
    "val_loader = DataLoader(CustomDataset(X_val, Y_val), batch_size=32, shuffle=False, collate_fn=ctc_collate)\n",
    "\n",
    "# 9. Model, Loss, Optimizer\n",
    "device = torch.device('cuda' if torch.cuda.is_available() else 'cpu')\n",
    "model = CNN_BiLSTM_CTC(num_classes=len(label_names)).to(device)\n",
    "criterion = nn.CTCLoss(blank=len(label_names))\n",
    "optimizer = optim.Adam(model.parameters(), lr=0.001)\n",
    "\n",
    "# Greedy decoder\n",
    "def greedy_decoder(output):\n",
    "    pred = output.permute(1, 0, 2)\n",
    "    pred = torch.argmax(pred, dim=2)\n",
    "    decoded = []\n",
    "    for p in pred:\n",
    "        seq = []\n",
    "        prev = -1\n",
    "        for char in p:\n",
    "            if char.item() != prev and char.item() != len(label_names):\n",
    "                seq.append(char.item())\n",
    "            prev = char.item()\n",
    "        decoded.append(seq)\n",
    "    return decoded\n",
    "\n",
    "# Accuracy computation\n",
    "def compute_accuracy(preds, targets):\n",
    "    correct_seq = 0\n",
    "    total_seq = len(preds)\n",
    "    correct_chars = 0\n",
    "    total_chars = 0\n",
    "    for pred, true in zip(preds, targets):\n",
    "        if pred == true:\n",
    "            correct_seq += 1\n",
    "        correct_chars += sum(p == t for p, t in zip(pred, true))\n",
    "        total_chars += len(true)\n",
    "    seq_acc = correct_seq / total_seq\n",
    "    char_acc = correct_chars / total_chars if total_chars else 0\n",
    "    return seq_acc, char_acc\n",
    "\n",
    "# 10. Training loop with Early Stopping\n",
    "train_losses, val_losses, train_seq_accs, val_seq_accs, train_accs, val_accs = [], [], [], [], [], []\n",
    "epochs = 150\n",
    "patience = 5  # Early stopping patience\n",
    "best_val_loss = float('inf')\n",
    "patience_counter = 0\n",
    "\n",
    "for epoch in range(epochs):\n",
    "    model.train()\n",
    "    total_loss = 0\n",
    "    for inputs, targets, input_lengths, target_lengths in tqdm(train_loader, desc=f\"Epoch {epoch+1}\"):\n",
    "        inputs, targets = inputs.to(device), targets.to(device)\n",
    "        optimizer.zero_grad()\n",
    "        outputs = model(inputs)\n",
    "        loss = criterion(outputs, targets, input_lengths, target_lengths)\n",
    "        loss.backward()\n",
    "        optimizer.step()\n",
    "        total_loss += loss.item()\n",
    "    train_losses.append(total_loss / len(train_loader))\n",
    "\n",
    "    # Training accuracy\n",
    "    model.eval()\n",
    "    all_preds, all_targets = [], []\n",
    "    with torch.no_grad():\n",
    "        for inputs, targets, _, _ in train_loader:\n",
    "            inputs = inputs.to(device)\n",
    "            outputs = model(inputs)\n",
    "            decoded_preds = greedy_decoder(outputs)\n",
    "            batch_targets = [t.tolist() for t in targets.split(1)]\n",
    "            all_preds.extend(decoded_preds)\n",
    "            all_targets.extend(batch_targets)\n",
    "    seq_acc, char_acc = compute_accuracy(all_preds, all_targets)\n",
    "    train_seq_accs.append(seq_acc)\n",
    "\n",
    "    # Overall accuracy\n",
    "    correct_train = sum(1 for p, t in zip(all_preds, all_targets) if p == t)\n",
    "    train_acc = correct_train / len(all_preds)\n",
    "    train_accs.append(train_acc)\n",
    "\n",
    "    # Validation loss & accuracy\n",
    "    val_loss, val_preds, val_targets = 0, [], []\n",
    "    with torch.no_grad():\n",
    "        for inputs, targets, input_lengths, target_lengths in val_loader:\n",
    "            inputs, targets = inputs.to(device), targets.to(device)\n",
    "            outputs = model(inputs)\n",
    "            val_loss += criterion(outputs, targets, input_lengths, target_lengths).item()\n",
    "            decoded_preds = greedy_decoder(outputs)\n",
    "            batch_targets = [t.tolist() for t in targets.split(1)]\n",
    "            val_preds.extend(decoded_preds)\n",
    "            val_targets.extend(batch_targets)\n",
    "    val_losses.append(val_loss / len(val_loader))\n",
    "    val_seq_acc, val_char_acc = compute_accuracy(val_preds, val_targets)\n",
    "    val_seq_accs.append(val_seq_acc)\n",
    "\n",
    "    # Overall accuracy\n",
    "    correct_val = sum(1 for p, t in zip(val_preds, val_targets) if p == t)\n",
    "    val_acc = correct_val / len(val_preds)\n",
    "    val_accs.append(val_acc)\n",
    "\n",
    "    print(f\"Epoch {epoch+1}/{epochs}, Loss: {train_losses[-1]:.4f}, Val Loss: {val_losses[-1]:.4f}, \"\n",
    "          f\"Train Seq Acc: {seq_acc:.4f}, Val Seq Acc: {val_seq_acc:.4f}, \"\n",
    "          f\"Train Accuracy: {train_acc:.4f}, Val Accuracy: {val_acc:.4f}\")\n",
    "\n",
    "    # Early stopping check\n",
    "    if val_losses[-1] < best_val_loss:\n",
    "        best_val_loss = val_losses[-1]\n",
    "        patience_counter = 0\n",
    "        # Save the model with the best validation loss\n",
    "        torch.save(model.state_dict(), \"grantha_bi_lstm_es.pth\")\n",
    "    else:\n",
    "        patience_counter += 1\n",
    "        if patience_counter >= patience:\n",
    "            print(f\"Early stopping triggered at epoch {epoch+1}\")\n",
    "            break\n",
    "\n",
    "# 11. Plots\n",
    "plt.figure(figsize=(12, 8))\n",
    "plt.subplot(2, 2, 1)\n",
    "plt.plot(train_losses, label='Train Loss')\n",
    "plt.plot(val_losses, label='Val Loss')\n",
    "plt.title(\"Loss Curve\")\n",
    "plt.xlabel(\"Epoch\")\n",
    "plt.ylabel(\"Loss\")\n",
    "plt.legend()\n",
    "\n",
    "plt.subplot(2, 2, 2)\n",
    "plt.plot(train_seq_accs, label='Train Seq Acc')\n",
    "plt.plot(val_seq_accs, label='Val Seq Acc')\n",
    "plt.title(\"Sequence Accuracy\")\n",
    "plt.xlabel(\"Epoch\")\n",
    "plt.ylabel(\"Accuracy\")\n",
    "plt.legend()\n",
    "\n",
    "plt.subplot(2, 2, 3)\n",
    "plt.plot(train_accs, label='Train Accuracy')\n",
    "plt.plot(val_accs, label='Val Accuracy')\n",
    "plt.title(\"Overall Accuracy\")\n",
    "plt.xlabel(\"Epoch\")\n",
    "plt.ylabel(\"Accuracy\")\n",
    "plt.legend()\n",
    "\n",
    "plt.tight_layout()\n",
    "plt.show()\n"
   ]
  },
  {
   "cell_type": "code",
   "execution_count": 12,
   "id": "328872e6",
   "metadata": {},
   "outputs": [
    {
     "name": "stderr",
     "output_type": "stream",
     "text": [
      "Epoch 1: 100%|██████████| 397/397 [00:06<00:00, 59.66it/s]\n"
     ]
    },
    {
     "name": "stdout",
     "output_type": "stream",
     "text": [
      "Epoch 1/150, Loss: 5.6292, Val Loss: 5.0932, Train Seq Acc: 0.0064, Val Seq Acc: 0.0066\n"
     ]
    },
    {
     "name": "stderr",
     "output_type": "stream",
     "text": [
      "Epoch 2: 100%|██████████| 397/397 [00:06<00:00, 59.50it/s]\n"
     ]
    },
    {
     "name": "stdout",
     "output_type": "stream",
     "text": [
      "Epoch 2/150, Loss: 4.9334, Val Loss: 4.7796, Train Seq Acc: 0.0185, Val Seq Acc: 0.0145\n"
     ]
    },
    {
     "name": "stderr",
     "output_type": "stream",
     "text": [
      "Epoch 3: 100%|██████████| 397/397 [00:06<00:00, 61.59it/s]\n"
     ]
    },
    {
     "name": "stdout",
     "output_type": "stream",
     "text": [
      "Epoch 3/150, Loss: 4.7080, Val Loss: 4.6149, Train Seq Acc: 0.0259, Val Seq Acc: 0.0224\n"
     ]
    },
    {
     "name": "stderr",
     "output_type": "stream",
     "text": [
      "Epoch 4: 100%|██████████| 397/397 [00:06<00:00, 58.61it/s]\n"
     ]
    },
    {
     "name": "stdout",
     "output_type": "stream",
     "text": [
      "Epoch 4/150, Loss: 4.6057, Val Loss: 4.8619, Train Seq Acc: 0.0315, Val Seq Acc: 0.0214\n"
     ]
    },
    {
     "name": "stderr",
     "output_type": "stream",
     "text": [
      "Epoch 5: 100%|██████████| 397/397 [00:06<00:00, 61.83it/s]\n"
     ]
    },
    {
     "name": "stdout",
     "output_type": "stream",
     "text": [
      "Epoch 5/150, Loss: 4.4079, Val Loss: 4.5528, Train Seq Acc: 0.0449, Val Seq Acc: 0.0451\n"
     ]
    },
    {
     "name": "stderr",
     "output_type": "stream",
     "text": [
      "Epoch 6: 100%|██████████| 397/397 [00:06<00:00, 61.45it/s]\n"
     ]
    },
    {
     "name": "stdout",
     "output_type": "stream",
     "text": [
      "Epoch 6/150, Loss: 4.1996, Val Loss: 5.0809, Train Seq Acc: 0.0505, Val Seq Acc: 0.0423\n"
     ]
    },
    {
     "name": "stderr",
     "output_type": "stream",
     "text": [
      "Epoch 7: 100%|██████████| 397/397 [00:06<00:00, 62.55it/s]\n"
     ]
    },
    {
     "name": "stdout",
     "output_type": "stream",
     "text": [
      "Epoch 7/150, Loss: 4.1023, Val Loss: 4.2654, Train Seq Acc: 0.0743, Val Seq Acc: 0.0587\n"
     ]
    },
    {
     "name": "stderr",
     "output_type": "stream",
     "text": [
      "Epoch 8: 100%|██████████| 397/397 [00:06<00:00, 61.55it/s]\n"
     ]
    },
    {
     "name": "stdout",
     "output_type": "stream",
     "text": [
      "Epoch 8/150, Loss: 4.0123, Val Loss: 5.6451, Train Seq Acc: 0.0568, Val Seq Acc: 0.0508\n"
     ]
    },
    {
     "name": "stderr",
     "output_type": "stream",
     "text": [
      "Epoch 9: 100%|██████████| 397/397 [00:06<00:00, 58.41it/s]\n"
     ]
    },
    {
     "name": "stdout",
     "output_type": "stream",
     "text": [
      "Epoch 9/150, Loss: 3.9284, Val Loss: 5.9498, Train Seq Acc: 0.0546, Val Seq Acc: 0.0445\n"
     ]
    },
    {
     "name": "stderr",
     "output_type": "stream",
     "text": [
      "Epoch 10: 100%|██████████| 397/397 [00:06<00:00, 58.00it/s]\n"
     ]
    },
    {
     "name": "stdout",
     "output_type": "stream",
     "text": [
      "Epoch 10/150, Loss: 3.8648, Val Loss: 4.4323, Train Seq Acc: 0.0985, Val Seq Acc: 0.0643\n"
     ]
    },
    {
     "name": "stderr",
     "output_type": "stream",
     "text": [
      "Epoch 11: 100%|██████████| 397/397 [00:06<00:00, 59.35it/s]\n"
     ]
    },
    {
     "name": "stdout",
     "output_type": "stream",
     "text": [
      "Epoch 11/150, Loss: 3.7891, Val Loss: 4.2712, Train Seq Acc: 0.0952, Val Seq Acc: 0.0669\n"
     ]
    },
    {
     "name": "stderr",
     "output_type": "stream",
     "text": [
      "Epoch 12: 100%|██████████| 397/397 [00:06<00:00, 60.71it/s]\n"
     ]
    },
    {
     "name": "stdout",
     "output_type": "stream",
     "text": [
      "Epoch 12/150, Loss: 3.7256, Val Loss: 4.4059, Train Seq Acc: 0.1271, Val Seq Acc: 0.0870\n"
     ]
    },
    {
     "name": "stderr",
     "output_type": "stream",
     "text": [
      "Epoch 13: 100%|██████████| 397/397 [00:06<00:00, 58.96it/s]\n"
     ]
    },
    {
     "name": "stdout",
     "output_type": "stream",
     "text": [
      "Epoch 13/150, Loss: 3.6662, Val Loss: 5.7247, Train Seq Acc: 0.0863, Val Seq Acc: 0.0678\n"
     ]
    },
    {
     "name": "stderr",
     "output_type": "stream",
     "text": [
      "Epoch 14: 100%|██████████| 397/397 [00:06<00:00, 60.14it/s]\n"
     ]
    },
    {
     "name": "stdout",
     "output_type": "stream",
     "text": [
      "Epoch 14/150, Loss: 3.6169, Val Loss: 3.7398, Train Seq Acc: 0.1528, Val Seq Acc: 0.1097\n"
     ]
    },
    {
     "name": "stderr",
     "output_type": "stream",
     "text": [
      "Epoch 15: 100%|██████████| 397/397 [00:06<00:00, 63.65it/s]\n"
     ]
    },
    {
     "name": "stdout",
     "output_type": "stream",
     "text": [
      "Epoch 15/150, Loss: 3.5407, Val Loss: 3.7199, Train Seq Acc: 0.1697, Val Seq Acc: 0.1198\n"
     ]
    },
    {
     "name": "stderr",
     "output_type": "stream",
     "text": [
      "Epoch 16: 100%|██████████| 397/397 [00:06<00:00, 66.07it/s]\n"
     ]
    },
    {
     "name": "stdout",
     "output_type": "stream",
     "text": [
      "Epoch 16/150, Loss: 3.4847, Val Loss: 5.4975, Train Seq Acc: 0.1293, Val Seq Acc: 0.0820\n"
     ]
    },
    {
     "name": "stderr",
     "output_type": "stream",
     "text": [
      "Epoch 17: 100%|██████████| 397/397 [00:06<00:00, 62.90it/s]\n"
     ]
    },
    {
     "name": "stdout",
     "output_type": "stream",
     "text": [
      "Epoch 17/150, Loss: 3.3948, Val Loss: 4.8959, Train Seq Acc: 0.1116, Val Seq Acc: 0.0694\n"
     ]
    },
    {
     "name": "stderr",
     "output_type": "stream",
     "text": [
      "Epoch 18: 100%|██████████| 397/397 [00:05<00:00, 66.74it/s]\n"
     ]
    },
    {
     "name": "stdout",
     "output_type": "stream",
     "text": [
      "Epoch 18/150, Loss: 3.3499, Val Loss: 5.0123, Train Seq Acc: 0.1510, Val Seq Acc: 0.0902\n"
     ]
    },
    {
     "name": "stderr",
     "output_type": "stream",
     "text": [
      "Epoch 19: 100%|██████████| 397/397 [00:06<00:00, 61.67it/s]\n"
     ]
    },
    {
     "name": "stdout",
     "output_type": "stream",
     "text": [
      "Epoch 19/150, Loss: 3.3139, Val Loss: 6.7819, Train Seq Acc: 0.1004, Val Seq Acc: 0.0596\n"
     ]
    },
    {
     "name": "stderr",
     "output_type": "stream",
     "text": [
      "Epoch 20: 100%|██████████| 397/397 [00:06<00:00, 61.27it/s]\n"
     ]
    },
    {
     "name": "stdout",
     "output_type": "stream",
     "text": [
      "Epoch 20/150, Loss: 3.2323, Val Loss: 4.1003, Train Seq Acc: 0.1751, Val Seq Acc: 0.1148\n",
      "\n",
      "⏹️ Early stopping triggered at epoch 20\n",
      "\n",
      "✅ Overall Sequence Accuracy: 0.1449\n"
     ]
    },
    {
     "data": {
      "image/png": "[encoded data removed]",
      "text/plain": [
       "<Figure size 1200x600 with 2 Axes>"
      ]
     },
     "metadata": {},
     "output_type": "display_data"
    }
   ],
   "source": [
    "import os\n",
    "import cv2\n",
    "import numpy as np\n",
    "import torch\n",
    "import torch.nn as nn\n",
    "import torch.optim as optim\n",
    "import matplotlib.pyplot as plt\n",
    "from torch.utils.data import DataLoader, Dataset\n",
    "from sklearn.model_selection import train_test_split\n",
    "from torch.nn.functional import log_softmax\n",
    "from tqdm import tqdm\n",
    "\n",
    "# Dataset path\n",
    "base_dir = r\"D:\\PRIYANKA M\\2021-2025\\PH.D\\RESEARCH SCHOLAR\\STUD_PROJ\\2025\\VARUNN  (MINI PROJECT)\\Dataset\\Final_dataset\\Final_dataset\\customized_train\"\n",
    "categories = ['Consonants', 'Numerals', 'mansample-final', 'uyirezhuthukkal']\n",
    "\n",
    "images, labels = [], []\n",
    "label_names = []\n",
    "\n",
    "# Load images and labels\n",
    "for category in categories:\n",
    "    category_path = os.path.join(base_dir, category)\n",
    "    for subfolder in os.listdir(category_path):\n",
    "        subfolder_path = os.path.join(category_path, subfolder)\n",
    "        if os.path.isdir(subfolder_path):\n",
    "            if subfolder not in label_names:\n",
    "                label_names.append(subfolder)\n",
    "            label_index = label_names.index(subfolder)\n",
    "            for img_file in os.listdir(subfolder_path):\n",
    "                if img_file.lower().endswith(('.png', '.jpg', '.jpeg')):\n",
    "                    img_path = os.path.join(subfolder_path, img_file)\n",
    "                    img = cv2.imread(img_path, cv2.IMREAD_GRAYSCALE)\n",
    "                    img = cv2.resize(img, (128, 32))\n",
    "                    images.append(img)\n",
    "                    labels.append([label_index])\n",
    "\n",
    "Label_Dict = {name: i for i, name in enumerate(label_names)}\n",
    "idx2char = {i: name for i, name in enumerate(label_names)}\n",
    "\n",
    "X = np.array(images).astype(np.float32) / 255.0\n",
    "if len(X.shape) == 3:\n",
    "    X = X[:, np.newaxis, :, :]\n",
    "\n",
    "X_train, X_val, Y_train, Y_val = train_test_split(X, labels, test_size=0.2, random_state=42)\n",
    "\n",
    "class CustomDataset(Dataset):\n",
    "    def __init__(self, X, Y):\n",
    "        self.X = X\n",
    "        self.Y = Y\n",
    "\n",
    "    def __len__(self):\n",
    "        return len(self.X)\n",
    "\n",
    "    def __getitem__(self, idx):\n",
    "        return torch.tensor(self.X[idx], dtype=torch.float32), torch.tensor(self.Y[idx], dtype=torch.long)\n",
    "\n",
    "class CNN_RNN_CTC(nn.Module):\n",
    "    def __init__(self, num_classes):\n",
    "        super(CNN_RNN_CTC, self).__init__()\n",
    "        self.cnn = nn.Sequential(\n",
    "            nn.Conv2d(1, 64, 3, padding=1), nn.BatchNorm2d(64), nn.ReLU(), nn.MaxPool2d((2, 2)),\n",
    "            nn.Conv2d(64, 128, 3, padding=1), nn.BatchNorm2d(128), nn.ReLU(), nn.MaxPool2d((2, 2)),\n",
    "            nn.Conv2d(128, 256, 3, padding=1), nn.BatchNorm2d(256), nn.ReLU(), nn.MaxPool2d((2, 2))\n",
    "        )\n",
    "        self.rnn = nn.RNN(input_size=1024, hidden_size=512, num_layers=3, batch_first=True)\n",
    "        self.dropout = nn.Dropout(0.25)\n",
    "        self.fc = nn.Linear(512, num_classes + 1)\n",
    "\n",
    "    def forward(self, x):\n",
    "        x = self.cnn(x)\n",
    "        x = x.permute(0, 3, 1, 2)\n",
    "        x = x.reshape(x.size(0), x.size(1), -1)\n",
    "        x, _ = self.rnn(x)\n",
    "        x = self.dropout(x)\n",
    "        x = self.fc(x)\n",
    "        x = x.permute(1, 0, 2)\n",
    "        return log_softmax(x, dim=2)\n",
    "\n",
    "def ctc_collate(batch):\n",
    "    inputs, targets = zip(*batch)\n",
    "    input_lengths = torch.full(size=(len(inputs),), fill_value=16, dtype=torch.long)\n",
    "    targets_flat = torch.cat(targets)\n",
    "    target_lengths = torch.tensor([len(t) for t in targets], dtype=torch.long)\n",
    "    return torch.stack(inputs), targets_flat, input_lengths, target_lengths\n",
    "\n",
    "train_loader = DataLoader(CustomDataset(X_train, Y_train), batch_size=32, shuffle=True, collate_fn=ctc_collate)\n",
    "val_loader = DataLoader(CustomDataset(X_val, Y_val), batch_size=32, shuffle=False, collate_fn=ctc_collate)\n",
    "\n",
    "device = torch.device('cuda' if torch.cuda.is_available() else 'cpu')\n",
    "model = CNN_RNN_CTC(num_classes=len(label_names)).to(device)\n",
    "criterion = nn.CTCLoss(blank=len(label_names))\n",
    "optimizer = optim.Adam(model.parameters(), lr=0.001)\n",
    "\n",
    "def greedy_decoder(output):\n",
    "    pred = output.permute(1, 0, 2)\n",
    "    pred = torch.argmax(pred, dim=2)\n",
    "    decoded = []\n",
    "    for p in pred:\n",
    "        seq = []\n",
    "        prev = -1\n",
    "        for char in p:\n",
    "            if char.item() != prev and char.item() != len(label_names):\n",
    "                seq.append(char.item())\n",
    "            prev = char.item()\n",
    "        decoded.append(seq)\n",
    "    return decoded\n",
    "\n",
    "def compute_accuracy(preds, targets):\n",
    "    correct_seq = 0\n",
    "    total_seq = len(preds)\n",
    "    correct_chars = 0\n",
    "    total_chars = 0\n",
    "    for pred, true in zip(preds, targets):\n",
    "        if pred == true:\n",
    "            correct_seq += 1\n",
    "        correct_chars += sum(p == t for p, t in zip(pred, true))\n",
    "        total_chars += len(true)\n",
    "    seq_acc = correct_seq / total_seq\n",
    "    char_acc = correct_chars / total_chars if total_chars else 0\n",
    "    return seq_acc, char_acc\n",
    "\n",
    "train_losses, val_losses, train_seq_accs, val_seq_accs = [], [], [], []\n",
    "epochs = 150\n",
    "patience = 5\n",
    "best_val_acc = 0\n",
    "patience_counter = 0\n",
    "\n",
    "for epoch in range(epochs):\n",
    "    model.train()\n",
    "    total_loss = 0\n",
    "    for inputs, targets, input_lengths, target_lengths in tqdm(train_loader, desc=f\"Epoch {epoch+1}\"):\n",
    "        inputs, targets = inputs.to(device), targets.to(device)\n",
    "        optimizer.zero_grad()\n",
    "        outputs = model(inputs)\n",
    "        loss = criterion(outputs, targets, input_lengths, target_lengths)\n",
    "        loss.backward()\n",
    "        optimizer.step()\n",
    "        total_loss += loss.item()\n",
    "    train_losses.append(total_loss / len(train_loader))\n",
    "\n",
    "    # Train Accuracy\n",
    "    model.eval()\n",
    "    all_preds, all_targets = [], []\n",
    "    with torch.no_grad():\n",
    "        for inputs, targets, _, _ in train_loader:\n",
    "            inputs = inputs.to(device)\n",
    "            outputs = model(inputs)\n",
    "            decoded_preds = greedy_decoder(outputs)\n",
    "            batch_targets = [t.tolist() for t in targets.split(1)]\n",
    "            all_preds.extend(decoded_preds)\n",
    "            all_targets.extend(batch_targets)\n",
    "    train_seq_acc, _ = compute_accuracy(all_preds, all_targets)\n",
    "    train_seq_accs.append(train_seq_acc)\n",
    "\n",
    "    # Validation\n",
    "    val_loss, val_preds, val_targets = 0, [], []\n",
    "    with torch.no_grad():\n",
    "        for inputs, targets, input_lengths, target_lengths in val_loader:\n",
    "            inputs, targets = inputs.to(device), targets.to(device)\n",
    "            outputs = model(inputs)\n",
    "            val_loss += criterion(outputs, targets, input_lengths, target_lengths).item()\n",
    "            decoded_preds = greedy_decoder(outputs)\n",
    "            batch_targets = [t.tolist() for t in targets.split(1)]\n",
    "            val_preds.extend(decoded_preds)\n",
    "            val_targets.extend(batch_targets)\n",
    "    val_losses.append(val_loss / len(val_loader))\n",
    "    val_seq_acc, _ = compute_accuracy(val_preds, val_targets)\n",
    "    val_seq_accs.append(val_seq_acc)\n",
    "\n",
    "    print(f\"Epoch {epoch+1}/{epochs}, Loss: {train_losses[-1]:.4f}, Val Loss: {val_losses[-1]:.4f}, Train Seq Acc: {train_seq_acc:.4f}, Val Seq Acc: {val_seq_acc:.4f}\")\n",
    "\n",
    "    if val_seq_acc > best_val_acc:\n",
    "        best_val_acc = val_seq_acc\n",
    "        patience_counter = 0\n",
    "        torch.save(model.state_dict(), \"simple_rnn_grantha.pth\")\n",
    "    else:\n",
    "        patience_counter += 1\n",
    "        if patience_counter >= patience:\n",
    "            print(f\"\\n⏹️ Early stopping triggered at epoch {epoch+1}\")\n",
    "            break\n",
    "\n",
    "overall_accuracy = (train_seq_accs[-1] + val_seq_accs[-1]) / 2\n",
    "print(f\"\\n✅ Overall Sequence Accuracy: {overall_accuracy:.4f}\")\n",
    "\n",
    "plt.figure(figsize=(12, 6))\n",
    "plt.subplot(1, 2, 1)\n",
    "plt.plot(train_losses, label='Train Loss')\n",
    "plt.plot(val_losses, label='Val Loss')\n",
    "plt.title(\"Loss Curve\")\n",
    "plt.xlabel(\"Epoch\")\n",
    "plt.ylabel(\"Loss\")\n",
    "plt.legend()\n",
    "\n",
    "plt.subplot(1, 2, 2)\n",
    "plt.plot(train_seq_accs, label='Train Seq Acc')\n",
    "plt.plot(val_seq_accs, label='Val Seq Acc')\n",
    "plt.title(\"Sequence Accuracy\")\n",
    "plt.xlabel(\"Epoch\")\n",
    "plt.ylabel(\"Accuracy\")\n",
    "plt.legend()\n",
    "plt.tight_layout()\n",
    "plt.show()\n"
   ]
  },
  {
   "cell_type": "code",
   "execution_count": null,
   "id": "ae2197ff",
   "metadata": {},
   "outputs": [],
   "source": []
  }
 ],
 "metadata": {
  "kernelspec": {
   "display_name": "Python 3 (ipykernel)",
   "language": "python",
   "name": "python3"
  },
  "language_info": {
   "codemirror_mode": {
    "name": "ipython",
    "version": 3
   },
   "file_extension": ".py",
   "mimetype": "text/x-python",
   "name": "python",
   "nbconvert_exporter": "python",
   "pygments_lexer": "ipython3",
   "version": "3.11.4"
  }
 },
 "nbformat": 4,
 "nbformat_minor": 5
}
